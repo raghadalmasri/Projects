{
  "nbformat": 4,
  "nbformat_minor": 5,
  "metadata": {
    "kernelspec": {
      "display_name": "Python 3",
      "language": "python",
      "name": "python3"
    },
    "language_info": {
      "codemirror_mode": {
        "name": "ipython",
        "version": 3
      },
      "file_extension": ".py",
      "mimetype": "text/x-python",
      "name": "python",
      "nbconvert_exporter": "python",
      "pygments_lexer": "ipython3",
      "version": "3.8.8"
    },
    "colab": {
      "name": "BigMart Sales_Raghad ALmasri.ipynb",
      "provenance": [],
      "collapsed_sections": [],
      "include_colab_link": true
    }
  },
  "cells": [
    {
      "cell_type": "markdown",
      "metadata": {
        "id": "view-in-github",
        "colab_type": "text"
      },
      "source": [
        "<a href=\"https://colab.research.google.com/github/raghadalmasri/Projects/blob/main/BigMart_Sales_Raghad_ALmasri.ipynb\" target=\"_parent\"><img src=\"https://colab.research.google.com/assets/colab-badge.svg\" alt=\"Open In Colab\"/></a>"
      ]
    },
    {
      "cell_type": "code",
      "metadata": {
        "id": "4ceeea69",
        "colab": {
          "base_uri": "https://localhost:8080/",
          "height": 35
        },
        "outputId": "31630c34-c794-4856-c0fa-a035cac199fc"
      },
      "source": [
        "# Data\n",
        "\"https://www.kaggle.com/brijbhushannanda1979/bigmart-sales-data\""
      ],
      "id": "4ceeea69",
      "execution_count": null,
      "outputs": [
        {
          "output_type": "execute_result",
          "data": {
            "application/vnd.google.colaboratory.intrinsic+json": {
              "type": "string"
            },
            "text/plain": [
              "'https://www.kaggle.com/brijbhushannanda1979/bigmart-sales-data'"
            ]
          },
          "metadata": {},
          "execution_count": 1
        }
      ]
    },
    {
      "cell_type": "code",
      "metadata": {
        "colab": {
          "base_uri": "https://localhost:8080/"
        },
        "id": "yQaCpl7dOqBT",
        "outputId": "055731bc-f96a-4d32-fa54-347c8fb11bd0"
      },
      "source": [
        "from google.colab import drive\n",
        "drive.mount('/content/drive')"
      ],
      "id": "yQaCpl7dOqBT",
      "execution_count": null,
      "outputs": [
        {
          "output_type": "stream",
          "name": "stdout",
          "text": [
            "Mounted at /content/drive\n"
          ]
        }
      ]
    },
    {
      "cell_type": "code",
      "metadata": {
        "id": "ekvHSY28MXcI"
      },
      "source": [
        "import pandas as pd\n",
        "import numpy as np"
      ],
      "id": "ekvHSY28MXcI",
      "execution_count": null,
      "outputs": []
    },
    {
      "cell_type": "code",
      "metadata": {
        "id": "R3Rvh8X2Me0F"
      },
      "source": [
        "data=pd.read_csv(\"/content/drive/MyDrive/Train.csv\",skipinitialspace=True)"
      ],
      "id": "R3Rvh8X2Me0F",
      "execution_count": null,
      "outputs": []
    },
    {
      "cell_type": "code",
      "metadata": {
        "colab": {
          "base_uri": "https://localhost:8080/"
        },
        "id": "NvPHP26EPIIE",
        "outputId": "ff5db0e2-637c-4a0a-d861-28a2e4ba7361"
      },
      "source": [
        "data.shape"
      ],
      "id": "NvPHP26EPIIE",
      "execution_count": null,
      "outputs": [
        {
          "output_type": "execute_result",
          "data": {
            "text/plain": [
              "(8523, 12)"
            ]
          },
          "metadata": {},
          "execution_count": 5
        }
      ]
    },
    {
      "cell_type": "code",
      "metadata": {
        "colab": {
          "base_uri": "https://localhost:8080/",
          "height": 309
        },
        "id": "o63R9zvbPfh8",
        "outputId": "e676d429-8b05-45e4-f203-7cc6c0b03807"
      },
      "source": [
        "data.head()"
      ],
      "id": "o63R9zvbPfh8",
      "execution_count": null,
      "outputs": [
        {
          "output_type": "execute_result",
          "data": {
            "text/html": [
              "<div>\n",
              "<style scoped>\n",
              "    .dataframe tbody tr th:only-of-type {\n",
              "        vertical-align: middle;\n",
              "    }\n",
              "\n",
              "    .dataframe tbody tr th {\n",
              "        vertical-align: top;\n",
              "    }\n",
              "\n",
              "    .dataframe thead th {\n",
              "        text-align: right;\n",
              "    }\n",
              "</style>\n",
              "<table border=\"1\" class=\"dataframe\">\n",
              "  <thead>\n",
              "    <tr style=\"text-align: right;\">\n",
              "      <th></th>\n",
              "      <th>Item_Identifier</th>\n",
              "      <th>Item_Weight</th>\n",
              "      <th>Item_Fat_Content</th>\n",
              "      <th>Item_Visibility</th>\n",
              "      <th>Item_Type</th>\n",
              "      <th>Item_MRP</th>\n",
              "      <th>Outlet_Identifier</th>\n",
              "      <th>Outlet_Establishment_Year</th>\n",
              "      <th>Outlet_Size</th>\n",
              "      <th>Outlet_Location_Type</th>\n",
              "      <th>Outlet_Type</th>\n",
              "      <th>Item_Outlet_Sales</th>\n",
              "    </tr>\n",
              "  </thead>\n",
              "  <tbody>\n",
              "    <tr>\n",
              "      <th>0</th>\n",
              "      <td>FDA15</td>\n",
              "      <td>9.30</td>\n",
              "      <td>Low Fat</td>\n",
              "      <td>0.016047</td>\n",
              "      <td>Dairy</td>\n",
              "      <td>249.8092</td>\n",
              "      <td>OUT049</td>\n",
              "      <td>1999</td>\n",
              "      <td>Medium</td>\n",
              "      <td>Tier 1</td>\n",
              "      <td>Supermarket Type1</td>\n",
              "      <td>3735.1380</td>\n",
              "    </tr>\n",
              "    <tr>\n",
              "      <th>1</th>\n",
              "      <td>DRC01</td>\n",
              "      <td>5.92</td>\n",
              "      <td>Regular</td>\n",
              "      <td>0.019278</td>\n",
              "      <td>Soft Drinks</td>\n",
              "      <td>48.2692</td>\n",
              "      <td>OUT018</td>\n",
              "      <td>2009</td>\n",
              "      <td>Medium</td>\n",
              "      <td>Tier 3</td>\n",
              "      <td>Supermarket Type2</td>\n",
              "      <td>443.4228</td>\n",
              "    </tr>\n",
              "    <tr>\n",
              "      <th>2</th>\n",
              "      <td>FDN15</td>\n",
              "      <td>17.50</td>\n",
              "      <td>Low Fat</td>\n",
              "      <td>0.016760</td>\n",
              "      <td>Meat</td>\n",
              "      <td>141.6180</td>\n",
              "      <td>OUT049</td>\n",
              "      <td>1999</td>\n",
              "      <td>Medium</td>\n",
              "      <td>Tier 1</td>\n",
              "      <td>Supermarket Type1</td>\n",
              "      <td>2097.2700</td>\n",
              "    </tr>\n",
              "    <tr>\n",
              "      <th>3</th>\n",
              "      <td>FDX07</td>\n",
              "      <td>19.20</td>\n",
              "      <td>Regular</td>\n",
              "      <td>0.000000</td>\n",
              "      <td>Fruits and Vegetables</td>\n",
              "      <td>182.0950</td>\n",
              "      <td>OUT010</td>\n",
              "      <td>1998</td>\n",
              "      <td>NaN</td>\n",
              "      <td>Tier 3</td>\n",
              "      <td>Grocery Store</td>\n",
              "      <td>732.3800</td>\n",
              "    </tr>\n",
              "    <tr>\n",
              "      <th>4</th>\n",
              "      <td>NCD19</td>\n",
              "      <td>8.93</td>\n",
              "      <td>Low Fat</td>\n",
              "      <td>0.000000</td>\n",
              "      <td>Household</td>\n",
              "      <td>53.8614</td>\n",
              "      <td>OUT013</td>\n",
              "      <td>1987</td>\n",
              "      <td>High</td>\n",
              "      <td>Tier 3</td>\n",
              "      <td>Supermarket Type1</td>\n",
              "      <td>994.7052</td>\n",
              "    </tr>\n",
              "  </tbody>\n",
              "</table>\n",
              "</div>"
            ],
            "text/plain": [
              "  Item_Identifier  Item_Weight  ...        Outlet_Type  Item_Outlet_Sales\n",
              "0           FDA15         9.30  ...  Supermarket Type1          3735.1380\n",
              "1           DRC01         5.92  ...  Supermarket Type2           443.4228\n",
              "2           FDN15        17.50  ...  Supermarket Type1          2097.2700\n",
              "3           FDX07        19.20  ...      Grocery Store           732.3800\n",
              "4           NCD19         8.93  ...  Supermarket Type1           994.7052\n",
              "\n",
              "[5 rows x 12 columns]"
            ]
          },
          "metadata": {},
          "execution_count": 6
        }
      ]
    },
    {
      "cell_type": "code",
      "metadata": {
        "colab": {
          "base_uri": "https://localhost:8080/"
        },
        "id": "mdm91FfcXIEM",
        "outputId": "1f4719c7-8247-4d81-e26b-fd08b026d533"
      },
      "source": [
        "data.info()\n",
        "\n",
        "#float64 ----> Numerical/Continous\n",
        "#int64 ------> Numerical/Discriete\n",
        "#object -----> Categorial"
      ],
      "id": "mdm91FfcXIEM",
      "execution_count": null,
      "outputs": [
        {
          "output_type": "stream",
          "name": "stdout",
          "text": [
            "<class 'pandas.core.frame.DataFrame'>\n",
            "RangeIndex: 8523 entries, 0 to 8522\n",
            "Data columns (total 12 columns):\n",
            " #   Column                     Non-Null Count  Dtype  \n",
            "---  ------                     --------------  -----  \n",
            " 0   Item_Identifier            8523 non-null   object \n",
            " 1   Item_Weight                7060 non-null   float64\n",
            " 2   Item_Fat_Content           8523 non-null   object \n",
            " 3   Item_Visibility            8523 non-null   float64\n",
            " 4   Item_Type                  8523 non-null   object \n",
            " 5   Item_MRP                   8523 non-null   float64\n",
            " 6   Outlet_Identifier          8523 non-null   object \n",
            " 7   Outlet_Establishment_Year  8523 non-null   int64  \n",
            " 8   Outlet_Size                6113 non-null   object \n",
            " 9   Outlet_Location_Type       8523 non-null   object \n",
            " 10  Outlet_Type                8523 non-null   object \n",
            " 11  Item_Outlet_Sales          8523 non-null   float64\n",
            "dtypes: float64(4), int64(1), object(7)\n",
            "memory usage: 799.2+ KB\n"
          ]
        }
      ]
    },
    {
      "cell_type": "code",
      "metadata": {
        "colab": {
          "base_uri": "https://localhost:8080/",
          "height": 297
        },
        "id": "Tw3_56zMXKjf",
        "outputId": "b348cb3f-7e84-48c0-f1ac-50482b09e1e0"
      },
      "source": [
        "data.describe()"
      ],
      "id": "Tw3_56zMXKjf",
      "execution_count": null,
      "outputs": [
        {
          "output_type": "execute_result",
          "data": {
            "text/html": [
              "<div>\n",
              "<style scoped>\n",
              "    .dataframe tbody tr th:only-of-type {\n",
              "        vertical-align: middle;\n",
              "    }\n",
              "\n",
              "    .dataframe tbody tr th {\n",
              "        vertical-align: top;\n",
              "    }\n",
              "\n",
              "    .dataframe thead th {\n",
              "        text-align: right;\n",
              "    }\n",
              "</style>\n",
              "<table border=\"1\" class=\"dataframe\">\n",
              "  <thead>\n",
              "    <tr style=\"text-align: right;\">\n",
              "      <th></th>\n",
              "      <th>Item_Weight</th>\n",
              "      <th>Item_Visibility</th>\n",
              "      <th>Item_MRP</th>\n",
              "      <th>Outlet_Establishment_Year</th>\n",
              "      <th>Item_Outlet_Sales</th>\n",
              "    </tr>\n",
              "  </thead>\n",
              "  <tbody>\n",
              "    <tr>\n",
              "      <th>count</th>\n",
              "      <td>7060.000000</td>\n",
              "      <td>8523.000000</td>\n",
              "      <td>8523.000000</td>\n",
              "      <td>8523.000000</td>\n",
              "      <td>8523.000000</td>\n",
              "    </tr>\n",
              "    <tr>\n",
              "      <th>mean</th>\n",
              "      <td>12.857645</td>\n",
              "      <td>0.066132</td>\n",
              "      <td>140.992782</td>\n",
              "      <td>1997.831867</td>\n",
              "      <td>2181.288914</td>\n",
              "    </tr>\n",
              "    <tr>\n",
              "      <th>std</th>\n",
              "      <td>4.643456</td>\n",
              "      <td>0.051598</td>\n",
              "      <td>62.275067</td>\n",
              "      <td>8.371760</td>\n",
              "      <td>1706.499616</td>\n",
              "    </tr>\n",
              "    <tr>\n",
              "      <th>min</th>\n",
              "      <td>4.555000</td>\n",
              "      <td>0.000000</td>\n",
              "      <td>31.290000</td>\n",
              "      <td>1985.000000</td>\n",
              "      <td>33.290000</td>\n",
              "    </tr>\n",
              "    <tr>\n",
              "      <th>25%</th>\n",
              "      <td>8.773750</td>\n",
              "      <td>0.026989</td>\n",
              "      <td>93.826500</td>\n",
              "      <td>1987.000000</td>\n",
              "      <td>834.247400</td>\n",
              "    </tr>\n",
              "    <tr>\n",
              "      <th>50%</th>\n",
              "      <td>12.600000</td>\n",
              "      <td>0.053931</td>\n",
              "      <td>143.012800</td>\n",
              "      <td>1999.000000</td>\n",
              "      <td>1794.331000</td>\n",
              "    </tr>\n",
              "    <tr>\n",
              "      <th>75%</th>\n",
              "      <td>16.850000</td>\n",
              "      <td>0.094585</td>\n",
              "      <td>185.643700</td>\n",
              "      <td>2004.000000</td>\n",
              "      <td>3101.296400</td>\n",
              "    </tr>\n",
              "    <tr>\n",
              "      <th>max</th>\n",
              "      <td>21.350000</td>\n",
              "      <td>0.328391</td>\n",
              "      <td>266.888400</td>\n",
              "      <td>2009.000000</td>\n",
              "      <td>13086.964800</td>\n",
              "    </tr>\n",
              "  </tbody>\n",
              "</table>\n",
              "</div>"
            ],
            "text/plain": [
              "       Item_Weight  ...  Item_Outlet_Sales\n",
              "count  7060.000000  ...        8523.000000\n",
              "mean     12.857645  ...        2181.288914\n",
              "std       4.643456  ...        1706.499616\n",
              "min       4.555000  ...          33.290000\n",
              "25%       8.773750  ...         834.247400\n",
              "50%      12.600000  ...        1794.331000\n",
              "75%      16.850000  ...        3101.296400\n",
              "max      21.350000  ...       13086.964800\n",
              "\n",
              "[8 rows x 5 columns]"
            ]
          },
          "metadata": {},
          "execution_count": 8
        }
      ]
    },
    {
      "cell_type": "code",
      "metadata": {
        "colab": {
          "base_uri": "https://localhost:8080/",
          "height": 190
        },
        "id": "lAaURvNTY_ES",
        "outputId": "3c3ae67e-d75f-481c-c5d0-a8ca2ffd3beb"
      },
      "source": [
        "#data.describe(include=np.object)\n",
        "data.describe(include=['object'])"
      ],
      "id": "lAaURvNTY_ES",
      "execution_count": null,
      "outputs": [
        {
          "output_type": "execute_result",
          "data": {
            "text/html": [
              "<div>\n",
              "<style scoped>\n",
              "    .dataframe tbody tr th:only-of-type {\n",
              "        vertical-align: middle;\n",
              "    }\n",
              "\n",
              "    .dataframe tbody tr th {\n",
              "        vertical-align: top;\n",
              "    }\n",
              "\n",
              "    .dataframe thead th {\n",
              "        text-align: right;\n",
              "    }\n",
              "</style>\n",
              "<table border=\"1\" class=\"dataframe\">\n",
              "  <thead>\n",
              "    <tr style=\"text-align: right;\">\n",
              "      <th></th>\n",
              "      <th>Item_Identifier</th>\n",
              "      <th>Item_Fat_Content</th>\n",
              "      <th>Item_Type</th>\n",
              "      <th>Outlet_Identifier</th>\n",
              "      <th>Outlet_Size</th>\n",
              "      <th>Outlet_Location_Type</th>\n",
              "      <th>Outlet_Type</th>\n",
              "    </tr>\n",
              "  </thead>\n",
              "  <tbody>\n",
              "    <tr>\n",
              "      <th>count</th>\n",
              "      <td>8523</td>\n",
              "      <td>8523</td>\n",
              "      <td>8523</td>\n",
              "      <td>8523</td>\n",
              "      <td>6113</td>\n",
              "      <td>8523</td>\n",
              "      <td>8523</td>\n",
              "    </tr>\n",
              "    <tr>\n",
              "      <th>unique</th>\n",
              "      <td>1559</td>\n",
              "      <td>5</td>\n",
              "      <td>16</td>\n",
              "      <td>10</td>\n",
              "      <td>3</td>\n",
              "      <td>3</td>\n",
              "      <td>4</td>\n",
              "    </tr>\n",
              "    <tr>\n",
              "      <th>top</th>\n",
              "      <td>FDG33</td>\n",
              "      <td>Low Fat</td>\n",
              "      <td>Fruits and Vegetables</td>\n",
              "      <td>OUT027</td>\n",
              "      <td>Medium</td>\n",
              "      <td>Tier 3</td>\n",
              "      <td>Supermarket Type1</td>\n",
              "    </tr>\n",
              "    <tr>\n",
              "      <th>freq</th>\n",
              "      <td>10</td>\n",
              "      <td>5089</td>\n",
              "      <td>1232</td>\n",
              "      <td>935</td>\n",
              "      <td>2793</td>\n",
              "      <td>3350</td>\n",
              "      <td>5577</td>\n",
              "    </tr>\n",
              "  </tbody>\n",
              "</table>\n",
              "</div>"
            ],
            "text/plain": [
              "       Item_Identifier Item_Fat_Content  ... Outlet_Location_Type        Outlet_Type\n",
              "count             8523             8523  ...                 8523               8523\n",
              "unique            1559                5  ...                    3                  4\n",
              "top              FDG33          Low Fat  ...               Tier 3  Supermarket Type1\n",
              "freq                10             5089  ...                 3350               5577\n",
              "\n",
              "[4 rows x 7 columns]"
            ]
          },
          "metadata": {},
          "execution_count": 9
        }
      ]
    },
    {
      "cell_type": "markdown",
      "metadata": {
        "id": "85709ea1"
      },
      "source": [
        "# EDA "
      ],
      "id": "85709ea1"
    },
    {
      "cell_type": "code",
      "metadata": {
        "id": "fdc358f0",
        "colab": {
          "base_uri": "https://localhost:8080/"
        },
        "outputId": "a69f2d6c-e550-4c78-c3e8-ca5bca4592b7"
      },
      "source": [
        "# How much unique items do we have (use Item_Identifier)\n",
        "data.Item_Identifier.nunique()"
      ],
      "id": "fdc358f0",
      "execution_count": null,
      "outputs": [
        {
          "output_type": "execute_result",
          "data": {
            "text/plain": [
              "1559"
            ]
          },
          "metadata": {},
          "execution_count": 10
        }
      ]
    },
    {
      "cell_type": "code",
      "metadata": {
        "id": "a26abe95",
        "colab": {
          "base_uri": "https://localhost:8080/"
        },
        "outputId": "53c1827d-5a68-4f28-9a5e-a5bc14c6b642"
      },
      "source": [
        "# How much establishment years do we have\n",
        "data.Outlet_Establishment_Year.nunique()"
      ],
      "id": "a26abe95",
      "execution_count": null,
      "outputs": [
        {
          "output_type": "execute_result",
          "data": {
            "text/plain": [
              "9"
            ]
          },
          "metadata": {},
          "execution_count": 11
        }
      ]
    },
    {
      "cell_type": "code",
      "metadata": {
        "id": "0aad00b3",
        "colab": {
          "base_uri": "https://localhost:8080/"
        },
        "outputId": "5ca19933-01de-48fc-d285-8c24f295f59f"
      },
      "source": [
        "# How much Item types do we have\n",
        "data.Item_Type.nunique()"
      ],
      "id": "0aad00b3",
      "execution_count": null,
      "outputs": [
        {
          "output_type": "execute_result",
          "data": {
            "text/plain": [
              "16"
            ]
          },
          "metadata": {},
          "execution_count": 12
        }
      ]
    },
    {
      "cell_type": "code",
      "metadata": {
        "id": "920cbbc5",
        "colab": {
          "base_uri": "https://localhost:8080/"
        },
        "outputId": "786bd5c1-eac4-4adf-824d-bb08768107c4"
      },
      "source": [
        "# Find the missing values by percentage, sorted from biggest to smallest \n",
        "(data.isnull().sum()*100/len(data)).sort_values(ascending=False)"
      ],
      "id": "920cbbc5",
      "execution_count": null,
      "outputs": [
        {
          "output_type": "execute_result",
          "data": {
            "text/plain": [
              "Outlet_Size                  28.276428\n",
              "Item_Weight                  17.165317\n",
              "Item_Outlet_Sales             0.000000\n",
              "Outlet_Type                   0.000000\n",
              "Outlet_Location_Type          0.000000\n",
              "Outlet_Establishment_Year     0.000000\n",
              "Outlet_Identifier             0.000000\n",
              "Item_MRP                      0.000000\n",
              "Item_Type                     0.000000\n",
              "Item_Visibility               0.000000\n",
              "Item_Fat_Content              0.000000\n",
              "Item_Identifier               0.000000\n",
              "dtype: float64"
            ]
          },
          "metadata": {},
          "execution_count": 13
        }
      ]
    },
    {
      "cell_type": "code",
      "metadata": {
        "id": "9c8202c8",
        "colab": {
          "base_uri": "https://localhost:8080/"
        },
        "outputId": "c7f8b43a-909e-49ea-d1f0-22da0d938622"
      },
      "source": [
        "# What is the numbers of categories for each feature with type object\n",
        "\n",
        "#data.describe(include=np.object)\n",
        "data.loc[:,data.dtypes==object].nunique() #******************************\n"
      ],
      "id": "9c8202c8",
      "execution_count": null,
      "outputs": [
        {
          "output_type": "execute_result",
          "data": {
            "text/plain": [
              "Item_Identifier         1559\n",
              "Item_Fat_Content           5\n",
              "Item_Type                 16\n",
              "Outlet_Identifier         10\n",
              "Outlet_Size                3\n",
              "Outlet_Location_Type       3\n",
              "Outlet_Type                4\n",
              "dtype: int64"
            ]
          },
          "metadata": {},
          "execution_count": 14
        }
      ]
    },
    {
      "cell_type": "code",
      "metadata": {
        "colab": {
          "base_uri": "https://localhost:8080/"
        },
        "id": "xqp9MV7jeIuD",
        "outputId": "ac3a7352-ef06-485e-a4cf-2d709b4e8e4c"
      },
      "source": [
        "data['Item_Fat_Content'].value_counts()"
      ],
      "id": "xqp9MV7jeIuD",
      "execution_count": null,
      "outputs": [
        {
          "output_type": "execute_result",
          "data": {
            "text/plain": [
              "Low Fat    5089\n",
              "Regular    2889\n",
              "LF          316\n",
              "reg         117\n",
              "low fat     112\n",
              "Name: Item_Fat_Content, dtype: int64"
            ]
          },
          "metadata": {},
          "execution_count": 15
        }
      ]
    },
    {
      "cell_type": "code",
      "metadata": {
        "scrolled": true,
        "id": "2da3651b",
        "colab": {
          "base_uri": "https://localhost:8080/"
        },
        "outputId": "d5c8e1ec-83df-466d-e000-d753f0329e78"
      },
      "source": [
        "# What is the item with the highest price, and what is that price\n",
        "Highest_price=data['Item_MRP'].max()\n",
        "print(Highest_price)\n",
        "d=data[data['Item_MRP']==Highest_price]\n",
        "d['Item_Identifier']"
      ],
      "id": "2da3651b",
      "execution_count": null,
      "outputs": [
        {
          "output_type": "stream",
          "name": "stdout",
          "text": [
            "266.8884\n"
          ]
        },
        {
          "output_type": "execute_result",
          "data": {
            "text/plain": [
              "4802    FDS13\n",
              "5884    FDR25\n",
              "Name: Item_Identifier, dtype: object"
            ]
          },
          "metadata": {},
          "execution_count": 16
        }
      ]
    },
    {
      "cell_type": "code",
      "metadata": {
        "id": "O0BNLzmjdwJV"
      },
      "source": [
        "for i in range(len(data)): #0 1 2 3 4 ................... \n",
        "  if (data.loc[i,'Item_Fat_Content']=='Low Fat') | (data.loc[i,'Item_Fat_Content']=='low fat') | (data.loc[i,'Item_Fat_Content']=='LF'):\n",
        "    data.loc[i,'Item_Fat_Content']='Low Fat'\n",
        "\n",
        "  if (data.loc[i,'Item_Fat_Content']=='Regular') | (data.loc[i,'Item_Fat_Content']=='reg'):\n",
        "    data.loc[i,'Item_Fat_Content']='Regular'\n"
      ],
      "id": "O0BNLzmjdwJV",
      "execution_count": null,
      "outputs": []
    },
    {
      "cell_type": "code",
      "metadata": {
        "colab": {
          "base_uri": "https://localhost:8080/"
        },
        "id": "FUkCUHL8fnFn",
        "outputId": "99e321b0-dadc-4694-8564-96c7083eeed3"
      },
      "source": [
        "data['Item_Fat_Content'].value_counts()"
      ],
      "id": "FUkCUHL8fnFn",
      "execution_count": null,
      "outputs": [
        {
          "output_type": "execute_result",
          "data": {
            "text/plain": [
              "Low Fat    5517\n",
              "Regular    3006\n",
              "Name: Item_Fat_Content, dtype: int64"
            ]
          },
          "metadata": {},
          "execution_count": 18
        }
      ]
    },
    {
      "cell_type": "code",
      "metadata": {
        "id": "0a608b1b",
        "colab": {
          "base_uri": "https://localhost:8080/"
        },
        "outputId": "9f92ddb4-2c7a-4aa9-d57f-a9a13af9932c"
      },
      "source": [
        "# Numbers of unique items that has a low fat\n",
        "low_Fat_Items=data[(data['Item_Fat_Content']=='Low Fat')]\n",
        "len(low_Fat_Items.Item_Identifier.value_counts())"
      ],
      "id": "0a608b1b",
      "execution_count": null,
      "outputs": [
        {
          "output_type": "execute_result",
          "data": {
            "text/plain": [
              "1008"
            ]
          },
          "metadata": {},
          "execution_count": 19
        }
      ]
    },
    {
      "cell_type": "code",
      "metadata": {
        "id": "976f95c2",
        "colab": {
          "base_uri": "https://localhost:8080/",
          "height": 117
        },
        "outputId": "397babbb-2f2c-41ee-bea5-d05366607979"
      },
      "source": [
        "# The most item that is being sale in the Grocery Store (use Outlet_Identifier)\n",
        "\n",
        "Grocery_Store_data=data[data['Outlet_Type']=='Grocery Store']\n",
        "max_Item_sales=Grocery_Store_data.Item_Outlet_Sales.max()\n",
        "Grocery_Store_data[Grocery_Store_data['Item_Outlet_Sales']==max_Item_sales]"
      ],
      "id": "976f95c2",
      "execution_count": null,
      "outputs": [
        {
          "output_type": "execute_result",
          "data": {
            "text/html": [
              "<div>\n",
              "<style scoped>\n",
              "    .dataframe tbody tr th:only-of-type {\n",
              "        vertical-align: middle;\n",
              "    }\n",
              "\n",
              "    .dataframe tbody tr th {\n",
              "        vertical-align: top;\n",
              "    }\n",
              "\n",
              "    .dataframe thead th {\n",
              "        text-align: right;\n",
              "    }\n",
              "</style>\n",
              "<table border=\"1\" class=\"dataframe\">\n",
              "  <thead>\n",
              "    <tr style=\"text-align: right;\">\n",
              "      <th></th>\n",
              "      <th>Item_Identifier</th>\n",
              "      <th>Item_Weight</th>\n",
              "      <th>Item_Fat_Content</th>\n",
              "      <th>Item_Visibility</th>\n",
              "      <th>Item_Type</th>\n",
              "      <th>Item_MRP</th>\n",
              "      <th>Outlet_Identifier</th>\n",
              "      <th>Outlet_Establishment_Year</th>\n",
              "      <th>Outlet_Size</th>\n",
              "      <th>Outlet_Location_Type</th>\n",
              "      <th>Outlet_Type</th>\n",
              "      <th>Item_Outlet_Sales</th>\n",
              "    </tr>\n",
              "  </thead>\n",
              "  <tbody>\n",
              "    <tr>\n",
              "      <th>7759</th>\n",
              "      <td>NCK30</td>\n",
              "      <td>14.85</td>\n",
              "      <td>Low Fat</td>\n",
              "      <td>0.102066</td>\n",
              "      <td>Household</td>\n",
              "      <td>254.2698</td>\n",
              "      <td>OUT010</td>\n",
              "      <td>1998</td>\n",
              "      <td>NaN</td>\n",
              "      <td>Tier 3</td>\n",
              "      <td>Grocery Store</td>\n",
              "      <td>1775.6886</td>\n",
              "    </tr>\n",
              "  </tbody>\n",
              "</table>\n",
              "</div>"
            ],
            "text/plain": [
              "     Item_Identifier  Item_Weight  ...    Outlet_Type  Item_Outlet_Sales\n",
              "7759           NCK30        14.85  ...  Grocery Store          1775.6886\n",
              "\n",
              "[1 rows x 12 columns]"
            ]
          },
          "metadata": {},
          "execution_count": 20
        }
      ]
    },
    {
      "cell_type": "code",
      "metadata": {
        "id": "Og7Z0_AxGwAu"
      },
      "source": [
        "# #(use Outlet_Identifier)\n",
        "\n",
        "# new_data = data[data['Outlet_Type']=='Grocery Store'].groupby(['Outlet_Identifier'])\n",
        "# max_value = new_data.Item_Outlet_Sales.max()\n",
        "# for i in [0,1]:\n",
        "#   new_data[new_data['Item_Outlet_Sales']==max_value[i]]"
      ],
      "id": "Og7Z0_AxGwAu",
      "execution_count": null,
      "outputs": []
    },
    {
      "cell_type": "code",
      "metadata": {
        "id": "2d62f041",
        "colab": {
          "base_uri": "https://localhost:8080/"
        },
        "outputId": "2324333f-4653-4b19-9b11-b73d2e372ae3"
      },
      "source": [
        "# What is the Item_Fat_content type that has the most Item_Outlet_Sales average? and how much is the average?\n",
        "data1=data.groupby('Item_Fat_Content')\n",
        "dic=data1['Item_Outlet_Sales'].mean().to_dict()\n",
        "max(dic.values())"
      ],
      "id": "2d62f041",
      "execution_count": null,
      "outputs": [
        {
          "output_type": "execute_result",
          "data": {
            "text/plain": [
              "2224.561170126416"
            ]
          },
          "metadata": {},
          "execution_count": 22
        }
      ]
    },
    {
      "cell_type": "code",
      "metadata": {
        "colab": {
          "base_uri": "https://localhost:8080/"
        },
        "id": "iS5RNKfVhnvm",
        "outputId": "1e43275f-9601-441a-8ba5-eda5935beaf2"
      },
      "source": [
        "dic"
      ],
      "id": "iS5RNKfVhnvm",
      "execution_count": null,
      "outputs": [
        {
          "output_type": "execute_result",
          "data": {
            "text/plain": [
              "{'Low Fat': 2157.7115339858597, 'Regular': 2224.561170126416}"
            ]
          },
          "metadata": {},
          "execution_count": 23
        }
      ]
    },
    {
      "cell_type": "code",
      "metadata": {
        "colab": {
          "base_uri": "https://localhost:8080/",
          "height": 35
        },
        "id": "1521gs0YBGGI",
        "outputId": "0e346f19-af73-48bd-fb27-69b2c53fa946"
      },
      "source": [
        "max(dic,key=dic.get)"
      ],
      "id": "1521gs0YBGGI",
      "execution_count": null,
      "outputs": [
        {
          "output_type": "execute_result",
          "data": {
            "application/vnd.google.colaboratory.intrinsic+json": {
              "type": "string"
            },
            "text/plain": [
              "'Regular'"
            ]
          },
          "metadata": {},
          "execution_count": 24
        }
      ]
    },
    {
      "cell_type": "markdown",
      "metadata": {
        "id": "97626a96"
      },
      "source": [
        "### What is the year that has the most average Outlet Sales"
      ],
      "id": "97626a96"
    },
    {
      "cell_type": "code",
      "metadata": {
        "id": "154fef08",
        "colab": {
          "base_uri": "https://localhost:8080/"
        },
        "outputId": "e8bde602-9910-49ae-80f0-cf084566e3bd"
      },
      "source": [
        "data.groupby('Outlet_Establishment_Year').Item_Outlet_Sales.mean().sort_values(ascending=False).index[0]"
      ],
      "id": "154fef08",
      "execution_count": null,
      "outputs": [
        {
          "output_type": "execute_result",
          "data": {
            "text/plain": [
              "1985"
            ]
          },
          "metadata": {},
          "execution_count": 25
        }
      ]
    },
    {
      "cell_type": "markdown",
      "metadata": {
        "id": "014e11ec"
      },
      "source": [
        "### Which item got the most average Outlet Sales"
      ],
      "id": "014e11ec"
    },
    {
      "cell_type": "code",
      "metadata": {
        "id": "1b2221e9",
        "colab": {
          "base_uri": "https://localhost:8080/",
          "height": 35
        },
        "outputId": "99f8dd7d-d05a-4e61-a179-385c52fab0c3"
      },
      "source": [
        "data3=data.groupby('Item_Identifier')\n",
        "data3['Item_Outlet_Sales'].mean().sort_values(ascending=False).index[0]"
      ],
      "id": "1b2221e9",
      "execution_count": null,
      "outputs": [
        {
          "output_type": "execute_result",
          "data": {
            "application/vnd.google.colaboratory.intrinsic+json": {
              "type": "string"
            },
            "text/plain": [
              "'FDR45'"
            ]
          },
          "metadata": {},
          "execution_count": 26
        }
      ]
    },
    {
      "cell_type": "markdown",
      "metadata": {
        "id": "d2e0c55b"
      },
      "source": [
        "### Find the most Item Visibility for each establishment year (the output should be : year, item id, Item Visibility) "
      ],
      "id": "d2e0c55b"
    },
    {
      "cell_type": "code",
      "metadata": {
        "id": "d7df0aeb",
        "colab": {
          "base_uri": "https://localhost:8080/"
        },
        "outputId": "9bcac0dc-83b9-4f3e-d510-14c224e7bc8a"
      },
      "source": [
        "print(\"Year\",'\\t' , \"Item ID\" ,'\\t' , \"Item Visibility\" ,'\\n')\n",
        "\n",
        "for year in data.Outlet_Establishment_Year.unique():\n",
        "  \n",
        "  data_of_specific_year = data[data['Outlet_Establishment_Year']==year]\n",
        "  most_Item_Visibility_VALUE = data_of_specific_year['Item_Visibility'].max()\n",
        "  one_row = data_of_specific_year[data_of_specific_year['Item_Visibility']==most_Item_Visibility_VALUE]\n",
        "  \n",
        "  print(year ,'\\t', one_row['Item_Identifier'].to_string(index=False) ,'\\t', most_Item_Visibility_VALUE)"
      ],
      "id": "d7df0aeb",
      "execution_count": null,
      "outputs": [
        {
          "output_type": "stream",
          "name": "stdout",
          "text": [
            "Year \t Item ID \t Item Visibility \n",
            "\n",
            "1999 \t  FDU13 \t 0.187850233\n",
            "2009 \t  FDU13 \t 0.18832266399999997\n",
            "1998 \t  FDT24 \t 0.311090379\n",
            "1987 \t  FDT24 \t 0.185704641\n",
            "1985 \t  FDU13 \t 0.328390948\n",
            "2002 \t  FDU13 \t 0.18793900300000002\n",
            "2007 \t  FDU13 \t 0.188619537\n",
            "1997 \t  FDU13 \t 0.18755862899999998\n",
            "2004 \t  FDU13 \t 0.187523164\n"
          ]
        }
      ]
    },
    {
      "cell_type": "code",
      "metadata": {
        "colab": {
          "base_uri": "https://localhost:8080/"
        },
        "id": "H2yLJPQkjqgC",
        "outputId": "b0afe87f-5822-4676-c30d-80b71d0466ff"
      },
      "source": [
        "data.groupby('Outlet_Establishment_Year').Item_Visibility.max()"
      ],
      "id": "H2yLJPQkjqgC",
      "execution_count": null,
      "outputs": [
        {
          "output_type": "execute_result",
          "data": {
            "text/plain": [
              "Outlet_Establishment_Year\n",
              "1985    0.328391\n",
              "1987    0.185705\n",
              "1997    0.187559\n",
              "1998    0.311090\n",
              "1999    0.187850\n",
              "2002    0.187939\n",
              "2004    0.187523\n",
              "2007    0.188620\n",
              "2009    0.188323\n",
              "Name: Item_Visibility, dtype: float64"
            ]
          },
          "metadata": {},
          "execution_count": 28
        }
      ]
    },
    {
      "cell_type": "markdown",
      "metadata": {
        "id": "fe650f05"
      },
      "source": [
        "# Plots"
      ],
      "id": "fe650f05"
    },
    {
      "cell_type": "code",
      "metadata": {
        "id": "f0f1a1ce"
      },
      "source": [
        "# Try to plot 3 different types of plots for numerical and categorical columns (6 plots in total) and write a description for each one"
      ],
      "id": "f0f1a1ce",
      "execution_count": null,
      "outputs": []
    },
    {
      "cell_type": "code",
      "metadata": {
        "id": "LJ3kNq1NwGrJ"
      },
      "source": [
        "import matplotlib as plt\n",
        "import matplotlib.pyplot as plt\n",
        "from matplotlib.pyplot import figure\n",
        "import seaborn as sns"
      ],
      "id": "LJ3kNq1NwGrJ",
      "execution_count": null,
      "outputs": []
    },
    {
      "cell_type": "markdown",
      "metadata": {
        "id": "LFPxLGsz8Llj"
      },
      "source": [
        " ***Numerical***"
      ],
      "id": "LFPxLGsz8Llj"
    },
    {
      "cell_type": "code",
      "metadata": {
        "colab": {
          "base_uri": "https://localhost:8080/",
          "height": 313
        },
        "id": "FBfb0Elo28ON",
        "outputId": "bb7ddc8a-a5c0-4756-ab2f-c5d7e720e754"
      },
      "source": [
        "plt.plot(data['Item_Visibility'], data['Item_Outlet_Sales'])\n",
        "plt.xlabel('Item_Visibility')\n",
        "plt.ylabel('Item_Outlet_Sales')\n",
        "plt.title('Figure (1)')"
      ],
      "id": "FBfb0Elo28ON",
      "execution_count": null,
      "outputs": [
        {
          "output_type": "execute_result",
          "data": {
            "text/plain": [
              "Text(0.5, 1.0, 'Figure (1)')"
            ]
          },
          "metadata": {},
          "execution_count": 31
        },
        {
          "output_type": "display_data",
          "data": {
            "image/png": "[encoded data removed]",
            "text/plain": [
              "<Figure size 432x288 with 1 Axes>"
            ]
          },
          "metadata": {
            "needs_background": "light"
          }
        }
      ]
    },
    {
      "cell_type": "code",
      "metadata": {
        "colab": {
          "base_uri": "https://localhost:8080/",
          "height": 313
        },
        "id": "_XpAVQyUXRC1",
        "outputId": "2ba9f5d4-66ac-4969-dd69-30a147776ed4"
      },
      "source": [
        "data.plot(kind=\"scatter\", x=\"Item_Visibility\", y=\"Item_MRP\")\n",
        "plt.title('Figure (2)')"
      ],
      "id": "_XpAVQyUXRC1",
      "execution_count": null,
      "outputs": [
        {
          "output_type": "execute_result",
          "data": {
            "text/plain": [
              "Text(0.5, 1.0, 'Figure (2)')"
            ]
          },
          "metadata": {},
          "execution_count": 32
        },
        {
          "output_type": "display_data",
          "data": {
            "image/png": "[encoded data removed]",
            "text/plain": [
              "<Figure size 432x288 with 1 Axes>"
            ]
          },
          "metadata": {
            "needs_background": "light"
          }
        }
      ]
    },
    {
      "cell_type": "code",
      "metadata": {
        "colab": {
          "base_uri": "https://localhost:8080/",
          "height": 297
        },
        "id": "xPhqOp-DdbJC",
        "outputId": "1997953f-06e1-4fc5-b829-97d185866d4b"
      },
      "source": [
        "data.plot(kind=\"scatter\", x=\"Item_MRP\", y=\"Item_Outlet_Sales\")\n"
      ],
      "id": "xPhqOp-DdbJC",
      "execution_count": null,
      "outputs": [
        {
          "output_type": "execute_result",
          "data": {
            "text/plain": [
              "<matplotlib.axes._subplots.AxesSubplot at 0x7ff97d8ab810>"
            ]
          },
          "metadata": {},
          "execution_count": 33
        },
        {
          "output_type": "display_data",
          "data": {
            "image/png": "[encoded data removed]",
            "text/plain": [
              "<Figure size 432x288 with 1 Axes>"
            ]
          },
          "metadata": {
            "needs_background": "light"
          }
        }
      ]
    },
    {
      "cell_type": "code",
      "metadata": {
        "colab": {
          "base_uri": "https://localhost:8080/",
          "height": 313
        },
        "id": "JnzPPr0txn2N",
        "outputId": "95373a1f-5b17-4f6d-f843-7a43bb548c4f"
      },
      "source": [
        "#sns.histplot(data=data , x='Outlet_Establishment_Year' , color=\"#ff7f0e\" )\n",
        "sns.countplot(x='Outlet_Establishment_Year', data=data)\n",
        "plt.title('Figure (3)')"
      ],
      "id": "JnzPPr0txn2N",
      "execution_count": null,
      "outputs": [
        {
          "output_type": "execute_result",
          "data": {
            "text/plain": [
              "Text(0.5, 1.0, 'Figure (3)')"
            ]
          },
          "metadata": {},
          "execution_count": 34
        },
        {
          "output_type": "display_data",
          "data": {
            "image/png": "[encoded data removed]",
            "text/plain": [
              "<Figure size 432x288 with 1 Axes>"
            ]
          },
          "metadata": {
            "needs_background": "light"
          }
        }
      ]
    },
    {
      "cell_type": "code",
      "metadata": {
        "colab": {
          "base_uri": "https://localhost:8080/",
          "height": 337
        },
        "id": "vJq_OU_L1Mk1",
        "outputId": "710647c8-e48d-46c3-bddf-42d151a41cac"
      },
      "source": [
        "data.boxplot(column=['Item_Weight','Item_Visibility','Item_MRP', 'Item_Outlet_Sales'])\n"
      ],
      "id": "vJq_OU_L1Mk1",
      "execution_count": null,
      "outputs": [
        {
          "output_type": "stream",
          "name": "stderr",
          "text": [
            "/usr/local/lib/python3.7/dist-packages/numpy/core/_asarray.py:83: VisibleDeprecationWarning: Creating an ndarray from ragged nested sequences (which is a list-or-tuple of lists-or-tuples-or ndarrays with different lengths or shapes) is deprecated. If you meant to do this, you must specify 'dtype=object' when creating the ndarray\n",
            "  return array(a, dtype, copy=False, order=order)\n"
          ]
        },
        {
          "output_type": "execute_result",
          "data": {
            "text/plain": [
              "<matplotlib.axes._subplots.AxesSubplot at 0x7ff97dd86410>"
            ]
          },
          "metadata": {},
          "execution_count": 35
        },
        {
          "output_type": "display_data",
          "data": {
            "image/png": "[encoded data removed]",
            "text/plain": [
              "<Figure size 432x288 with 1 Axes>"
            ]
          },
          "metadata": {
            "needs_background": "light"
          }
        }
      ]
    },
    {
      "cell_type": "code",
      "metadata": {
        "colab": {
          "base_uri": "https://localhost:8080/",
          "height": 297
        },
        "id": "FJsLTlzv1f2f",
        "outputId": "526b513a-c97b-4ca4-ad8c-e1e69988b622"
      },
      "source": [
        "sns.boxplot(x=data['Item_Visibility'])"
      ],
      "id": "FJsLTlzv1f2f",
      "execution_count": null,
      "outputs": [
        {
          "output_type": "execute_result",
          "data": {
            "text/plain": [
              "<matplotlib.axes._subplots.AxesSubplot at 0x7ff97d6c2810>"
            ]
          },
          "metadata": {},
          "execution_count": 36
        },
        {
          "output_type": "display_data",
          "data": {
            "image/png": "[encoded data removed]",
            "text/plain": [
              "<Figure size 432x288 with 1 Axes>"
            ]
          },
          "metadata": {
            "needs_background": "light"
          }
        }
      ]
    },
    {
      "cell_type": "code",
      "metadata": {
        "colab": {
          "base_uri": "https://localhost:8080/",
          "height": 297
        },
        "id": "bJHu0GKE1s9d",
        "outputId": "920bebe2-9dc7-4396-8d39-d84c38f53acc"
      },
      "source": [
        "sns.boxplot(x=data['Item_Outlet_Sales'])"
      ],
      "id": "bJHu0GKE1s9d",
      "execution_count": null,
      "outputs": [
        {
          "output_type": "execute_result",
          "data": {
            "text/plain": [
              "<matplotlib.axes._subplots.AxesSubplot at 0x7ff97d646dd0>"
            ]
          },
          "metadata": {},
          "execution_count": 37
        },
        {
          "output_type": "display_data",
          "data": {
            "image/png": "[encoded data removed]",
            "text/plain": [
              "<Figure size 432x288 with 1 Axes>"
            ]
          },
          "metadata": {
            "needs_background": "light"
          }
        }
      ]
    },
    {
      "cell_type": "code",
      "metadata": {
        "id": "Nw5pGWnydQ_e"
      },
      "source": [
        ""
      ],
      "id": "Nw5pGWnydQ_e",
      "execution_count": null,
      "outputs": []
    },
    {
      "cell_type": "code",
      "metadata": {
        "colab": {
          "base_uri": "https://localhost:8080/",
          "height": 91
        },
        "id": "xZmNJGWiwZtt",
        "outputId": "1218ba90-b2f0-4d7c-acf1-5d7d51ac510b"
      },
      "source": [
        "facetgrid=sns.FacetGrid(data=data ,col='Item_Type' ,height=3 ,aspect=1 )\n",
        "facetgrid.map(plt.hist ,'Item_MRP')\n"
      ],
      "id": "xZmNJGWiwZtt",
      "execution_count": null,
      "outputs": [
        {
          "output_type": "execute_result",
          "data": {
            "text/plain": [
              "<seaborn.axisgrid.FacetGrid at 0x7ff97d5b4c10>"
            ]
          },
          "metadata": {},
          "execution_count": 38
        },
        {
          "output_type": "display_data",
          "data": {
            "image/png": "[encoded data removed]",
            "text/plain": [
              "<Figure size 3456x216 with 16 Axes>"
            ]
          },
          "metadata": {
            "needs_background": "light"
          }
        }
      ]
    },
    {
      "cell_type": "code",
      "metadata": {
        "colab": {
          "base_uri": "https://localhost:8080/",
          "height": 242
        },
        "id": "xYoNpNrZ51a2",
        "outputId": "d0918f97-28ff-4724-fea6-2e2ad46e4525"
      },
      "source": [
        "facetgrid=sns.FacetGrid(data=data ,col='Item_Fat_Content' ,height=3 ,aspect=1 )\n",
        "facetgrid.map(plt.hist ,'Item_MRP')"
      ],
      "id": "xYoNpNrZ51a2",
      "execution_count": null,
      "outputs": [
        {
          "output_type": "execute_result",
          "data": {
            "text/plain": [
              "<seaborn.axisgrid.FacetGrid at 0x7ff97d602110>"
            ]
          },
          "metadata": {},
          "execution_count": 39
        },
        {
          "output_type": "display_data",
          "data": {
            "image/png": "[encoded data removed]",
            "text/plain": [
              "<Figure size 432x216 with 2 Axes>"
            ]
          },
          "metadata": {
            "needs_background": "light"
          }
        }
      ]
    },
    {
      "cell_type": "markdown",
      "metadata": {
        "id": "8583elDq8bw4"
      },
      "source": [
        " ***Categoral*** "
      ],
      "id": "8583elDq8bw4"
    },
    {
      "cell_type": "code",
      "metadata": {
        "colab": {
          "base_uri": "https://localhost:8080/",
          "height": 347
        },
        "id": "Q6V98IDCyd7m",
        "outputId": "9ca505d2-ba3a-4fb3-8667-a0fa7c5784f4"
      },
      "source": [
        "sns.set(style=\"darkgrid\")\n",
        "Item_Type_count = data['Item_Type'].value_counts()\n",
        "ax = sns.barplot(Item_Type_count.index, Item_Type_count.values, alpha=0.9)\n",
        "plt.title('Frequency Distribution of Item_Type')\n",
        "plt.ylabel('Number of Occurrences', fontsize=12)\n",
        "plt.xlabel('Item_Type', fontsize=12)\n",
        "\n",
        "ax.set_xticklabels(ax.get_xticklabels(), rotation=45, ha=\"right\")\n",
        "plt.tight_layout()\n",
        "plt.show()"
      ],
      "id": "Q6V98IDCyd7m",
      "execution_count": null,
      "outputs": [
        {
          "output_type": "stream",
          "name": "stderr",
          "text": [
            "/usr/local/lib/python3.7/dist-packages/seaborn/_decorators.py:43: FutureWarning: Pass the following variables as keyword args: x, y. From version 0.12, the only valid positional argument will be `data`, and passing other arguments without an explicit keyword will result in an error or misinterpretation.\n",
            "  FutureWarning\n"
          ]
        },
        {
          "output_type": "display_data",
          "data": {
            "image/png": "[encoded data removed]",
            "text/plain": [
              "<Figure size 432x288 with 1 Axes>"
            ]
          },
          "metadata": {}
        }
      ]
    },
    {
      "cell_type": "code",
      "metadata": {
        "colab": {
          "base_uri": "https://localhost:8080/",
          "height": 382
        },
        "id": "60zgttjl8Ih8",
        "outputId": "029caf32-ae7b-4316-a14b-17f958bca336"
      },
      "source": [
        "sns.catplot(x=\"Outlet_Size\", y=\"Item_Outlet_Sales\", hue=\"Outlet_Type\", kind=\"bar\", data=data)"
      ],
      "id": "60zgttjl8Ih8",
      "execution_count": null,
      "outputs": [
        {
          "output_type": "execute_result",
          "data": {
            "text/plain": [
              "<seaborn.axisgrid.FacetGrid at 0x7ff9748220d0>"
            ]
          },
          "metadata": {},
          "execution_count": 41
        },
        {
          "output_type": "display_data",
          "data": {
            "image/png": "[encoded data removed]",
            "text/plain": [
              "<Figure size 506.975x360 with 1 Axes>"
            ]
          },
          "metadata": {}
        }
      ]
    },
    {
      "cell_type": "code",
      "metadata": {
        "colab": {
          "base_uri": "https://localhost:8080/",
          "height": 293
        },
        "id": "zE1DOD4Yi365",
        "outputId": "479fb59d-2d9f-418e-a341-31989e996a75"
      },
      "source": [
        "ax = sns.pointplot(x='Outlet_Type',y='Item_Outlet_Sales', data=data)\n",
        "ax.set_xticklabels(ax.get_xticklabels(), rotation= 45, ha=\"right\")\n",
        "plt.tight_layout()\n",
        "plt.show()"
      ],
      "id": "zE1DOD4Yi365",
      "execution_count": null,
      "outputs": [
        {
          "output_type": "display_data",
          "data": {
            "image/png": "[encoded data removed]",
            "text/plain": [
              "<Figure size 432x288 with 1 Axes>"
            ]
          },
          "metadata": {}
        }
      ]
    },
    {
      "cell_type": "code",
      "metadata": {
        "colab": {
          "base_uri": "https://localhost:8080/",
          "height": 339
        },
        "id": "JFYpf5ZEk6W8",
        "outputId": "95498d00-88fe-4d50-f089-c5d2ee4f88f4"
      },
      "source": [
        "data.plot(kind=\"scatter\", y=\"Outlet_Location_Type\", x=\"Outlet_Type\")"
      ],
      "id": "JFYpf5ZEk6W8",
      "execution_count": null,
      "outputs": [
        {
          "output_type": "stream",
          "name": "stderr",
          "text": [
            "*c* argument looks like a single numeric RGB or RGBA sequence, which should be avoided as value-mapping will have precedence in case its length matches with *x* & *y*.  Please use the *color* keyword-argument or provide a 2-D array with a single row if you intend to specify the same RGB or RGBA value for all points.\n"
          ]
        },
        {
          "output_type": "execute_result",
          "data": {
            "text/plain": [
              "<matplotlib.axes._subplots.AxesSubplot at 0x7ff974334910>"
            ]
          },
          "metadata": {},
          "execution_count": 43
        },
        {
          "output_type": "display_data",
          "data": {
            "image/png": "[encoded data removed]",
            "text/plain": [
              "<Figure size 432x288 with 1 Axes>"
            ]
          },
          "metadata": {}
        }
      ]
    },
    {
      "cell_type": "markdown",
      "metadata": {
        "id": "26da180e"
      },
      "source": [
        "# Feature Engineering"
      ],
      "id": "26da180e"
    },
    {
      "cell_type": "code",
      "metadata": {
        "scrolled": false,
        "id": "3554c239",
        "colab": {
          "base_uri": "https://localhost:8080/",
          "height": 464
        },
        "outputId": "caa91076-7caf-40ef-8fb6-9cf3422576b7"
      },
      "source": [
        "# Which feature got the most correlation with the target, Drow a correlation plot with all the features\n",
        "\n",
        "figure(figsize=(7,5))\n",
        "corr=data.corr()  #calculate the correlation on the data using the pandas .corr( ) function\n",
        "sns.heatmap(corr , cmap='Set2', vmin=-1 , vmax=1 )  #we pass the corr to the seaborn function heatmap( ) which makes the beautiful plot.\n",
        "plt.show()"
      ],
      "id": "3554c239",
      "execution_count": null,
      "outputs": [
        {
          "output_type": "display_data",
          "data": {
            "image/png": "[encoded data removed]",
            "text/plain": [
              "<Figure size 504x360 with 2 Axes>"
            ]
          },
          "metadata": {}
        }
      ]
    },
    {
      "cell_type": "code",
      "metadata": {
        "colab": {
          "base_uri": "https://localhost:8080/",
          "height": 204
        },
        "id": "StWKlD4rOG0o",
        "outputId": "20df7733-c05c-459a-b384-29e7b66ab70f"
      },
      "source": [
        "corr   # Item_MRP is the most correlation with target"
      ],
      "id": "StWKlD4rOG0o",
      "execution_count": null,
      "outputs": [
        {
          "output_type": "execute_result",
          "data": {
            "text/html": [
              "<div>\n",
              "<style scoped>\n",
              "    .dataframe tbody tr th:only-of-type {\n",
              "        vertical-align: middle;\n",
              "    }\n",
              "\n",
              "    .dataframe tbody tr th {\n",
              "        vertical-align: top;\n",
              "    }\n",
              "\n",
              "    .dataframe thead th {\n",
              "        text-align: right;\n",
              "    }\n",
              "</style>\n",
              "<table border=\"1\" class=\"dataframe\">\n",
              "  <thead>\n",
              "    <tr style=\"text-align: right;\">\n",
              "      <th></th>\n",
              "      <th>Item_Weight</th>\n",
              "      <th>Item_Visibility</th>\n",
              "      <th>Item_MRP</th>\n",
              "      <th>Outlet_Establishment_Year</th>\n",
              "      <th>Item_Outlet_Sales</th>\n",
              "    </tr>\n",
              "  </thead>\n",
              "  <tbody>\n",
              "    <tr>\n",
              "      <th>Item_Weight</th>\n",
              "      <td>1.000000</td>\n",
              "      <td>-0.014048</td>\n",
              "      <td>0.027141</td>\n",
              "      <td>-0.011588</td>\n",
              "      <td>0.014123</td>\n",
              "    </tr>\n",
              "    <tr>\n",
              "      <th>Item_Visibility</th>\n",
              "      <td>-0.014048</td>\n",
              "      <td>1.000000</td>\n",
              "      <td>-0.001315</td>\n",
              "      <td>-0.074834</td>\n",
              "      <td>-0.128625</td>\n",
              "    </tr>\n",
              "    <tr>\n",
              "      <th>Item_MRP</th>\n",
              "      <td>0.027141</td>\n",
              "      <td>-0.001315</td>\n",
              "      <td>1.000000</td>\n",
              "      <td>0.005020</td>\n",
              "      <td>0.567574</td>\n",
              "    </tr>\n",
              "    <tr>\n",
              "      <th>Outlet_Establishment_Year</th>\n",
              "      <td>-0.011588</td>\n",
              "      <td>-0.074834</td>\n",
              "      <td>0.005020</td>\n",
              "      <td>1.000000</td>\n",
              "      <td>-0.049135</td>\n",
              "    </tr>\n",
              "    <tr>\n",
              "      <th>Item_Outlet_Sales</th>\n",
              "      <td>0.014123</td>\n",
              "      <td>-0.128625</td>\n",
              "      <td>0.567574</td>\n",
              "      <td>-0.049135</td>\n",
              "      <td>1.000000</td>\n",
              "    </tr>\n",
              "  </tbody>\n",
              "</table>\n",
              "</div>"
            ],
            "text/plain": [
              "                           Item_Weight  ...  Item_Outlet_Sales\n",
              "Item_Weight                   1.000000  ...           0.014123\n",
              "Item_Visibility              -0.014048  ...          -0.128625\n",
              "Item_MRP                      0.027141  ...           0.567574\n",
              "Outlet_Establishment_Year    -0.011588  ...          -0.049135\n",
              "Item_Outlet_Sales             0.014123  ...           1.000000\n",
              "\n",
              "[5 rows x 5 columns]"
            ]
          },
          "metadata": {},
          "execution_count": 45
        }
      ]
    },
    {
      "cell_type": "code",
      "metadata": {
        "id": "5b9fb367",
        "colab": {
          "base_uri": "https://localhost:8080/",
          "height": 309
        },
        "outputId": "86745ecd-f355-4a9d-d5e1-0fb505ded7f9"
      },
      "source": [
        "# Create new features from the old ones\n",
        "data['price_of_one_killo_of_item']=data['Item_MRP']/data['Item_Weight']\n",
        "data.head()"
      ],
      "id": "5b9fb367",
      "execution_count": null,
      "outputs": [
        {
          "output_type": "execute_result",
          "data": {
            "text/html": [
              "<div>\n",
              "<style scoped>\n",
              "    .dataframe tbody tr th:only-of-type {\n",
              "        vertical-align: middle;\n",
              "    }\n",
              "\n",
              "    .dataframe tbody tr th {\n",
              "        vertical-align: top;\n",
              "    }\n",
              "\n",
              "    .dataframe thead th {\n",
              "        text-align: right;\n",
              "    }\n",
              "</style>\n",
              "<table border=\"1\" class=\"dataframe\">\n",
              "  <thead>\n",
              "    <tr style=\"text-align: right;\">\n",
              "      <th></th>\n",
              "      <th>Item_Identifier</th>\n",
              "      <th>Item_Weight</th>\n",
              "      <th>Item_Fat_Content</th>\n",
              "      <th>Item_Visibility</th>\n",
              "      <th>Item_Type</th>\n",
              "      <th>Item_MRP</th>\n",
              "      <th>Outlet_Identifier</th>\n",
              "      <th>Outlet_Establishment_Year</th>\n",
              "      <th>Outlet_Size</th>\n",
              "      <th>Outlet_Location_Type</th>\n",
              "      <th>Outlet_Type</th>\n",
              "      <th>Item_Outlet_Sales</th>\n",
              "      <th>price_of_one_killo_of_item</th>\n",
              "    </tr>\n",
              "  </thead>\n",
              "  <tbody>\n",
              "    <tr>\n",
              "      <th>0</th>\n",
              "      <td>FDA15</td>\n",
              "      <td>9.30</td>\n",
              "      <td>Low Fat</td>\n",
              "      <td>0.016047</td>\n",
              "      <td>Dairy</td>\n",
              "      <td>249.8092</td>\n",
              "      <td>OUT049</td>\n",
              "      <td>1999</td>\n",
              "      <td>Medium</td>\n",
              "      <td>Tier 1</td>\n",
              "      <td>Supermarket Type1</td>\n",
              "      <td>3735.1380</td>\n",
              "      <td>26.861204</td>\n",
              "    </tr>\n",
              "    <tr>\n",
              "      <th>1</th>\n",
              "      <td>DRC01</td>\n",
              "      <td>5.92</td>\n",
              "      <td>Regular</td>\n",
              "      <td>0.019278</td>\n",
              "      <td>Soft Drinks</td>\n",
              "      <td>48.2692</td>\n",
              "      <td>OUT018</td>\n",
              "      <td>2009</td>\n",
              "      <td>Medium</td>\n",
              "      <td>Tier 3</td>\n",
              "      <td>Supermarket Type2</td>\n",
              "      <td>443.4228</td>\n",
              "      <td>8.153581</td>\n",
              "    </tr>\n",
              "    <tr>\n",
              "      <th>2</th>\n",
              "      <td>FDN15</td>\n",
              "      <td>17.50</td>\n",
              "      <td>Low Fat</td>\n",
              "      <td>0.016760</td>\n",
              "      <td>Meat</td>\n",
              "      <td>141.6180</td>\n",
              "      <td>OUT049</td>\n",
              "      <td>1999</td>\n",
              "      <td>Medium</td>\n",
              "      <td>Tier 1</td>\n",
              "      <td>Supermarket Type1</td>\n",
              "      <td>2097.2700</td>\n",
              "      <td>8.092457</td>\n",
              "    </tr>\n",
              "    <tr>\n",
              "      <th>3</th>\n",
              "      <td>FDX07</td>\n",
              "      <td>19.20</td>\n",
              "      <td>Regular</td>\n",
              "      <td>0.000000</td>\n",
              "      <td>Fruits and Vegetables</td>\n",
              "      <td>182.0950</td>\n",
              "      <td>OUT010</td>\n",
              "      <td>1998</td>\n",
              "      <td>NaN</td>\n",
              "      <td>Tier 3</td>\n",
              "      <td>Grocery Store</td>\n",
              "      <td>732.3800</td>\n",
              "      <td>9.484115</td>\n",
              "    </tr>\n",
              "    <tr>\n",
              "      <th>4</th>\n",
              "      <td>NCD19</td>\n",
              "      <td>8.93</td>\n",
              "      <td>Low Fat</td>\n",
              "      <td>0.000000</td>\n",
              "      <td>Household</td>\n",
              "      <td>53.8614</td>\n",
              "      <td>OUT013</td>\n",
              "      <td>1987</td>\n",
              "      <td>High</td>\n",
              "      <td>Tier 3</td>\n",
              "      <td>Supermarket Type1</td>\n",
              "      <td>994.7052</td>\n",
              "      <td>6.031512</td>\n",
              "    </tr>\n",
              "  </tbody>\n",
              "</table>\n",
              "</div>"
            ],
            "text/plain": [
              "  Item_Identifier  Item_Weight  ... Item_Outlet_Sales  price_of_one_killo_of_item\n",
              "0           FDA15         9.30  ...         3735.1380                   26.861204\n",
              "1           DRC01         5.92  ...          443.4228                    8.153581\n",
              "2           FDN15        17.50  ...         2097.2700                    8.092457\n",
              "3           FDX07        19.20  ...          732.3800                    9.484115\n",
              "4           NCD19         8.93  ...          994.7052                    6.031512\n",
              "\n",
              "[5 rows x 13 columns]"
            ]
          },
          "metadata": {},
          "execution_count": 46
        }
      ]
    },
    {
      "cell_type": "markdown",
      "metadata": {
        "id": "6e64dfbf"
      },
      "source": [
        "# Let me see how will you fill the missing data :), Try to find a pattern between the missing data and why they are missing if possible"
      ],
      "id": "6e64dfbf"
    },
    {
      "cell_type": "code",
      "metadata": {
        "colab": {
          "base_uri": "https://localhost:8080/"
        },
        "id": "SEgke0iyvIm6",
        "outputId": "540c87da-c261-48b6-be95-c498667b6817"
      },
      "source": [
        "data.isnull().sum()"
      ],
      "id": "SEgke0iyvIm6",
      "execution_count": null,
      "outputs": [
        {
          "output_type": "execute_result",
          "data": {
            "text/plain": [
              "Item_Identifier                  0\n",
              "Item_Weight                   1463\n",
              "Item_Fat_Content                 0\n",
              "Item_Visibility                  0\n",
              "Item_Type                        0\n",
              "Item_MRP                         0\n",
              "Outlet_Identifier                0\n",
              "Outlet_Establishment_Year        0\n",
              "Outlet_Size                   2410\n",
              "Outlet_Location_Type             0\n",
              "Outlet_Type                      0\n",
              "Item_Outlet_Sales                0\n",
              "price_of_one_killo_of_item    1463\n",
              "dtype: int64"
            ]
          },
          "metadata": {},
          "execution_count": 47
        }
      ]
    },
    {
      "cell_type": "markdown",
      "metadata": {
        "id": "1uOt8rwBVSZF"
      },
      "source": [
        "***Item_Weight Missing Value***"
      ],
      "id": "1uOt8rwBVSZF"
    },
    {
      "cell_type": "code",
      "metadata": {
        "id": "ZHuG-dNrZbvs"
      },
      "source": [
        "means=data.groupby('Item_Identifier').Item_Weight.mean().to_dict()\n",
        "\n",
        "for i in range(len(data)):\n",
        " #if data.loc[i,'Item_Weight'].isnull() == True:\n",
        "    id = data.loc[i,'Item_Identifier']\n",
        "    data.loc[i,'Item_Weight']= means[id]\n"
      ],
      "id": "ZHuG-dNrZbvs",
      "execution_count": null,
      "outputs": []
    },
    {
      "cell_type": "code",
      "metadata": {
        "colab": {
          "base_uri": "https://localhost:8080/"
        },
        "id": "BLLVNDJDW0Uq",
        "outputId": "a65fc7d0-e8b1-4d45-be1b-d3a69eb52bf6"
      },
      "source": [
        "data.isnull().sum()"
      ],
      "id": "BLLVNDJDW0Uq",
      "execution_count": null,
      "outputs": [
        {
          "output_type": "execute_result",
          "data": {
            "text/plain": [
              "Item_Identifier                  0\n",
              "Item_Weight                      4\n",
              "Item_Fat_Content                 0\n",
              "Item_Visibility                  0\n",
              "Item_Type                        0\n",
              "Item_MRP                         0\n",
              "Outlet_Identifier                0\n",
              "Outlet_Establishment_Year        0\n",
              "Outlet_Size                   2410\n",
              "Outlet_Location_Type             0\n",
              "Outlet_Type                      0\n",
              "Item_Outlet_Sales                0\n",
              "price_of_one_killo_of_item    1463\n",
              "dtype: int64"
            ]
          },
          "metadata": {},
          "execution_count": 49
        }
      ]
    },
    {
      "cell_type": "code",
      "metadata": {
        "colab": {
          "base_uri": "https://localhost:8080/",
          "height": 261
        },
        "id": "ey8jgDqNnWHV",
        "outputId": "393f8395-8eae-40bd-d3f8-df129583a9d7"
      },
      "source": [
        "data[data['Item_Weight'].isnull()]"
      ],
      "id": "ey8jgDqNnWHV",
      "execution_count": null,
      "outputs": [
        {
          "output_type": "execute_result",
          "data": {
            "text/html": [
              "<div>\n",
              "<style scoped>\n",
              "    .dataframe tbody tr th:only-of-type {\n",
              "        vertical-align: middle;\n",
              "    }\n",
              "\n",
              "    .dataframe tbody tr th {\n",
              "        vertical-align: top;\n",
              "    }\n",
              "\n",
              "    .dataframe thead th {\n",
              "        text-align: right;\n",
              "    }\n",
              "</style>\n",
              "<table border=\"1\" class=\"dataframe\">\n",
              "  <thead>\n",
              "    <tr style=\"text-align: right;\">\n",
              "      <th></th>\n",
              "      <th>Item_Identifier</th>\n",
              "      <th>Item_Weight</th>\n",
              "      <th>Item_Fat_Content</th>\n",
              "      <th>Item_Visibility</th>\n",
              "      <th>Item_Type</th>\n",
              "      <th>Item_MRP</th>\n",
              "      <th>Outlet_Identifier</th>\n",
              "      <th>Outlet_Establishment_Year</th>\n",
              "      <th>Outlet_Size</th>\n",
              "      <th>Outlet_Location_Type</th>\n",
              "      <th>Outlet_Type</th>\n",
              "      <th>Item_Outlet_Sales</th>\n",
              "      <th>price_of_one_killo_of_item</th>\n",
              "    </tr>\n",
              "  </thead>\n",
              "  <tbody>\n",
              "    <tr>\n",
              "      <th>927</th>\n",
              "      <td>FDN52</td>\n",
              "      <td>NaN</td>\n",
              "      <td>Regular</td>\n",
              "      <td>0.130933</td>\n",
              "      <td>Frozen Foods</td>\n",
              "      <td>86.9198</td>\n",
              "      <td>OUT027</td>\n",
              "      <td>1985</td>\n",
              "      <td>Medium</td>\n",
              "      <td>Tier 3</td>\n",
              "      <td>Supermarket Type3</td>\n",
              "      <td>1569.9564</td>\n",
              "      <td>NaN</td>\n",
              "    </tr>\n",
              "    <tr>\n",
              "      <th>1922</th>\n",
              "      <td>FDK57</td>\n",
              "      <td>NaN</td>\n",
              "      <td>Low Fat</td>\n",
              "      <td>0.079904</td>\n",
              "      <td>Snack Foods</td>\n",
              "      <td>120.0440</td>\n",
              "      <td>OUT027</td>\n",
              "      <td>1985</td>\n",
              "      <td>Medium</td>\n",
              "      <td>Tier 3</td>\n",
              "      <td>Supermarket Type3</td>\n",
              "      <td>4434.2280</td>\n",
              "      <td>NaN</td>\n",
              "    </tr>\n",
              "    <tr>\n",
              "      <th>4187</th>\n",
              "      <td>FDE52</td>\n",
              "      <td>NaN</td>\n",
              "      <td>Regular</td>\n",
              "      <td>0.029742</td>\n",
              "      <td>Dairy</td>\n",
              "      <td>88.9514</td>\n",
              "      <td>OUT027</td>\n",
              "      <td>1985</td>\n",
              "      <td>Medium</td>\n",
              "      <td>Tier 3</td>\n",
              "      <td>Supermarket Type3</td>\n",
              "      <td>3453.5046</td>\n",
              "      <td>NaN</td>\n",
              "    </tr>\n",
              "    <tr>\n",
              "      <th>5022</th>\n",
              "      <td>FDQ60</td>\n",
              "      <td>NaN</td>\n",
              "      <td>Regular</td>\n",
              "      <td>0.191501</td>\n",
              "      <td>Baking Goods</td>\n",
              "      <td>121.2098</td>\n",
              "      <td>OUT019</td>\n",
              "      <td>1985</td>\n",
              "      <td>Small</td>\n",
              "      <td>Tier 1</td>\n",
              "      <td>Grocery Store</td>\n",
              "      <td>120.5098</td>\n",
              "      <td>NaN</td>\n",
              "    </tr>\n",
              "  </tbody>\n",
              "</table>\n",
              "</div>"
            ],
            "text/plain": [
              "     Item_Identifier  ...  price_of_one_killo_of_item\n",
              "927            FDN52  ...                         NaN\n",
              "1922           FDK57  ...                         NaN\n",
              "4187           FDE52  ...                         NaN\n",
              "5022           FDQ60  ...                         NaN\n",
              "\n",
              "[4 rows x 13 columns]"
            ]
          },
          "metadata": {},
          "execution_count": 50
        }
      ]
    },
    {
      "cell_type": "code",
      "metadata": {
        "colab": {
          "base_uri": "https://localhost:8080/",
          "height": 609
        },
        "id": "pv_ytQZiXU7g",
        "outputId": "31e48584-c545-43ac-a6ed-930b992ae0b9"
      },
      "source": [
        "data[(data['Item_Type']=='Frozen Foods') & (data['Item_Fat_Content']== 'Regular') ] #-------> Item Weights are not equal"
      ],
      "id": "pv_ytQZiXU7g",
      "execution_count": null,
      "outputs": [
        {
          "output_type": "execute_result",
          "data": {
            "text/html": [
              "<div>\n",
              "<style scoped>\n",
              "    .dataframe tbody tr th:only-of-type {\n",
              "        vertical-align: middle;\n",
              "    }\n",
              "\n",
              "    .dataframe tbody tr th {\n",
              "        vertical-align: top;\n",
              "    }\n",
              "\n",
              "    .dataframe thead th {\n",
              "        text-align: right;\n",
              "    }\n",
              "</style>\n",
              "<table border=\"1\" class=\"dataframe\">\n",
              "  <thead>\n",
              "    <tr style=\"text-align: right;\">\n",
              "      <th></th>\n",
              "      <th>Item_Identifier</th>\n",
              "      <th>Item_Weight</th>\n",
              "      <th>Item_Fat_Content</th>\n",
              "      <th>Item_Visibility</th>\n",
              "      <th>Item_Type</th>\n",
              "      <th>Item_MRP</th>\n",
              "      <th>Outlet_Identifier</th>\n",
              "      <th>Outlet_Establishment_Year</th>\n",
              "      <th>Outlet_Size</th>\n",
              "      <th>Outlet_Location_Type</th>\n",
              "      <th>Outlet_Type</th>\n",
              "      <th>Item_Outlet_Sales</th>\n",
              "      <th>price_of_one_killo_of_item</th>\n",
              "    </tr>\n",
              "  </thead>\n",
              "  <tbody>\n",
              "    <tr>\n",
              "      <th>8</th>\n",
              "      <td>FDH17</td>\n",
              "      <td>16.20</td>\n",
              "      <td>Regular</td>\n",
              "      <td>0.016687</td>\n",
              "      <td>Frozen Foods</td>\n",
              "      <td>96.9726</td>\n",
              "      <td>OUT045</td>\n",
              "      <td>2002</td>\n",
              "      <td>NaN</td>\n",
              "      <td>Tier 2</td>\n",
              "      <td>Supermarket Type1</td>\n",
              "      <td>1076.5986</td>\n",
              "      <td>5.985963</td>\n",
              "    </tr>\n",
              "    <tr>\n",
              "      <th>9</th>\n",
              "      <td>FDU28</td>\n",
              "      <td>19.20</td>\n",
              "      <td>Regular</td>\n",
              "      <td>0.094450</td>\n",
              "      <td>Frozen Foods</td>\n",
              "      <td>187.8214</td>\n",
              "      <td>OUT017</td>\n",
              "      <td>2007</td>\n",
              "      <td>NaN</td>\n",
              "      <td>Tier 2</td>\n",
              "      <td>Supermarket Type1</td>\n",
              "      <td>4710.5350</td>\n",
              "      <td>9.782365</td>\n",
              "    </tr>\n",
              "    <tr>\n",
              "      <th>24</th>\n",
              "      <td>FDR28</td>\n",
              "      <td>13.85</td>\n",
              "      <td>Regular</td>\n",
              "      <td>0.025896</td>\n",
              "      <td>Frozen Foods</td>\n",
              "      <td>165.0210</td>\n",
              "      <td>OUT046</td>\n",
              "      <td>1997</td>\n",
              "      <td>Small</td>\n",
              "      <td>Tier 1</td>\n",
              "      <td>Supermarket Type1</td>\n",
              "      <td>4078.0250</td>\n",
              "      <td>11.914874</td>\n",
              "    </tr>\n",
              "    <tr>\n",
              "      <th>63</th>\n",
              "      <td>FDY40</td>\n",
              "      <td>15.50</td>\n",
              "      <td>Regular</td>\n",
              "      <td>0.150286</td>\n",
              "      <td>Frozen Foods</td>\n",
              "      <td>51.0692</td>\n",
              "      <td>OUT019</td>\n",
              "      <td>1985</td>\n",
              "      <td>Small</td>\n",
              "      <td>Tier 1</td>\n",
              "      <td>Grocery Store</td>\n",
              "      <td>147.8076</td>\n",
              "      <td>NaN</td>\n",
              "    </tr>\n",
              "    <tr>\n",
              "      <th>75</th>\n",
              "      <td>FDC29</td>\n",
              "      <td>8.39</td>\n",
              "      <td>Regular</td>\n",
              "      <td>0.024206</td>\n",
              "      <td>Frozen Foods</td>\n",
              "      <td>114.0176</td>\n",
              "      <td>OUT046</td>\n",
              "      <td>1997</td>\n",
              "      <td>Small</td>\n",
              "      <td>Tier 1</td>\n",
              "      <td>Supermarket Type1</td>\n",
              "      <td>2290.3520</td>\n",
              "      <td>13.589702</td>\n",
              "    </tr>\n",
              "    <tr>\n",
              "      <th>...</th>\n",
              "      <td>...</td>\n",
              "      <td>...</td>\n",
              "      <td>...</td>\n",
              "      <td>...</td>\n",
              "      <td>...</td>\n",
              "      <td>...</td>\n",
              "      <td>...</td>\n",
              "      <td>...</td>\n",
              "      <td>...</td>\n",
              "      <td>...</td>\n",
              "      <td>...</td>\n",
              "      <td>...</td>\n",
              "      <td>...</td>\n",
              "    </tr>\n",
              "    <tr>\n",
              "      <th>8432</th>\n",
              "      <td>FDI16</td>\n",
              "      <td>14.00</td>\n",
              "      <td>Regular</td>\n",
              "      <td>0.227261</td>\n",
              "      <td>Frozen Foods</td>\n",
              "      <td>54.3640</td>\n",
              "      <td>OUT010</td>\n",
              "      <td>1998</td>\n",
              "      <td>NaN</td>\n",
              "      <td>Tier 3</td>\n",
              "      <td>Grocery Store</td>\n",
              "      <td>159.7920</td>\n",
              "      <td>3.883143</td>\n",
              "    </tr>\n",
              "    <tr>\n",
              "      <th>8477</th>\n",
              "      <td>FDC05</td>\n",
              "      <td>13.10</td>\n",
              "      <td>Regular</td>\n",
              "      <td>0.099343</td>\n",
              "      <td>Frozen Foods</td>\n",
              "      <td>198.1768</td>\n",
              "      <td>OUT017</td>\n",
              "      <td>2007</td>\n",
              "      <td>NaN</td>\n",
              "      <td>Tier 2</td>\n",
              "      <td>Supermarket Type1</td>\n",
              "      <td>1970.7680</td>\n",
              "      <td>15.128000</td>\n",
              "    </tr>\n",
              "    <tr>\n",
              "      <th>8482</th>\n",
              "      <td>FDZ28</td>\n",
              "      <td>20.00</td>\n",
              "      <td>Regular</td>\n",
              "      <td>0.051702</td>\n",
              "      <td>Frozen Foods</td>\n",
              "      <td>125.8678</td>\n",
              "      <td>OUT018</td>\n",
              "      <td>2009</td>\n",
              "      <td>Medium</td>\n",
              "      <td>Tier 3</td>\n",
              "      <td>Supermarket Type2</td>\n",
              "      <td>763.0068</td>\n",
              "      <td>6.293390</td>\n",
              "    </tr>\n",
              "    <tr>\n",
              "      <th>8507</th>\n",
              "      <td>FDN28</td>\n",
              "      <td>5.88</td>\n",
              "      <td>Regular</td>\n",
              "      <td>0.030242</td>\n",
              "      <td>Frozen Foods</td>\n",
              "      <td>101.7990</td>\n",
              "      <td>OUT035</td>\n",
              "      <td>2004</td>\n",
              "      <td>Small</td>\n",
              "      <td>Tier 2</td>\n",
              "      <td>Supermarket Type1</td>\n",
              "      <td>515.9950</td>\n",
              "      <td>17.312755</td>\n",
              "    </tr>\n",
              "    <tr>\n",
              "      <th>8517</th>\n",
              "      <td>FDF53</td>\n",
              "      <td>20.75</td>\n",
              "      <td>Regular</td>\n",
              "      <td>0.083607</td>\n",
              "      <td>Frozen Foods</td>\n",
              "      <td>178.8318</td>\n",
              "      <td>OUT046</td>\n",
              "      <td>1997</td>\n",
              "      <td>Small</td>\n",
              "      <td>Tier 1</td>\n",
              "      <td>Supermarket Type1</td>\n",
              "      <td>3608.6360</td>\n",
              "      <td>8.618400</td>\n",
              "    </tr>\n",
              "  </tbody>\n",
              "</table>\n",
              "<p>406 rows × 13 columns</p>\n",
              "</div>"
            ],
            "text/plain": [
              "     Item_Identifier  ...  price_of_one_killo_of_item\n",
              "8              FDH17  ...                    5.985963\n",
              "9              FDU28  ...                    9.782365\n",
              "24             FDR28  ...                   11.914874\n",
              "63             FDY40  ...                         NaN\n",
              "75             FDC29  ...                   13.589702\n",
              "...              ...  ...                         ...\n",
              "8432           FDI16  ...                    3.883143\n",
              "8477           FDC05  ...                   15.128000\n",
              "8482           FDZ28  ...                    6.293390\n",
              "8507           FDN28  ...                   17.312755\n",
              "8517           FDF53  ...                    8.618400\n",
              "\n",
              "[406 rows x 13 columns]"
            ]
          },
          "metadata": {},
          "execution_count": 51
        }
      ]
    },
    {
      "cell_type": "markdown",
      "metadata": {
        "id": "XmLqjlfLVh6n"
      },
      "source": [
        "***Outlet_Size Missing Value***"
      ],
      "id": "XmLqjlfLVh6n"
    },
    {
      "cell_type": "code",
      "metadata": {
        "id": "PubdA-zJU_YN"
      },
      "source": [
        "for i in range(len(data)):\n",
        "  if (data.loc[i,'Outlet_Type']=='Grocery Store') is True:\n",
        "    data.loc[i,'Outlet_Size']\n"
      ],
      "id": "PubdA-zJU_YN",
      "execution_count": null,
      "outputs": []
    },
    {
      "cell_type": "code",
      "metadata": {
        "colab": {
          "base_uri": "https://localhost:8080/"
        },
        "id": "qP5ALv86Qofa",
        "outputId": "43dd99b3-323b-4453-a10a-2fa0e93973c8"
      },
      "source": [
        "data.groupby('Outlet_Establishment_Year').Outlet_Size.value_counts()"
      ],
      "id": "qP5ALv86Qofa",
      "execution_count": null,
      "outputs": [
        {
          "output_type": "execute_result",
          "data": {
            "text/plain": [
              "Outlet_Establishment_Year  Outlet_Size\n",
              "1985                       Medium         935\n",
              "                           Small          528\n",
              "1987                       High           932\n",
              "1997                       Small          930\n",
              "1999                       Medium         930\n",
              "2004                       Small          930\n",
              "2009                       Medium         928\n",
              "Name: Outlet_Size, dtype: int64"
            ]
          },
          "metadata": {},
          "execution_count": 53
        }
      ]
    },
    {
      "cell_type": "code",
      "metadata": {
        "id": "aqpkW_LPRAMC"
      },
      "source": [
        "for n in range(len(data)):\n",
        "  if (data.loc[n,'Outlet_Establishment_Year']==1997) | (data.loc[n,'Outlet_Establishment_Year']==1998) | (data.loc[n,'Outlet_Establishment_Year']==2004):\n",
        "    data.loc[n,'Outlet_Size'] = 'Small'\n",
        "  if (data.loc[n,'Outlet_Establishment_Year']==1999) | (data.loc[n,'Outlet_Establishment_Year']==2009):\n",
        "    data.loc[n,'Outlet_Size'] = 'Medium'\n",
        "  if (data.loc[n,'Outlet_Establishment_Year']==1987):\n",
        "    data.loc[n,'Outlet_Size'] = 'High'\n",
        "\n"
      ],
      "id": "aqpkW_LPRAMC",
      "execution_count": null,
      "outputs": []
    },
    {
      "cell_type": "code",
      "metadata": {
        "colab": {
          "base_uri": "https://localhost:8080/"
        },
        "id": "RH3eixIcSJIB",
        "outputId": "d01a60f1-c01e-4e01-91e6-8c9e910fcc32"
      },
      "source": [
        "data.isnull().sum() # ----------> NAN values found in other yesrs"
      ],
      "id": "RH3eixIcSJIB",
      "execution_count": null,
      "outputs": [
        {
          "output_type": "execute_result",
          "data": {
            "text/plain": [
              "Item_Identifier                  0\n",
              "Item_Weight                      4\n",
              "Item_Fat_Content                 0\n",
              "Item_Visibility                  0\n",
              "Item_Type                        0\n",
              "Item_MRP                         0\n",
              "Outlet_Identifier                0\n",
              "Outlet_Establishment_Year        0\n",
              "Outlet_Size                   1855\n",
              "Outlet_Location_Type             0\n",
              "Outlet_Type                      0\n",
              "Item_Outlet_Sales                0\n",
              "price_of_one_killo_of_item    1463\n",
              "dtype: int64"
            ]
          },
          "metadata": {},
          "execution_count": 55
        }
      ]
    },
    {
      "cell_type": "code",
      "metadata": {
        "colab": {
          "base_uri": "https://localhost:8080/",
          "height": 609
        },
        "id": "xdZByUQJSgim",
        "outputId": "9ce8b09c-ad52-4762-d400-6f7bf48833b7"
      },
      "source": [
        "data[data['Outlet_Size'].isnull()] #-------> 2002 , 2007 ----------> Location: Tier 2 && Outlet Type: Supermarket Type 1"
      ],
      "id": "xdZByUQJSgim",
      "execution_count": null,
      "outputs": [
        {
          "output_type": "execute_result",
          "data": {
            "text/html": [
              "<div>\n",
              "<style scoped>\n",
              "    .dataframe tbody tr th:only-of-type {\n",
              "        vertical-align: middle;\n",
              "    }\n",
              "\n",
              "    .dataframe tbody tr th {\n",
              "        vertical-align: top;\n",
              "    }\n",
              "\n",
              "    .dataframe thead th {\n",
              "        text-align: right;\n",
              "    }\n",
              "</style>\n",
              "<table border=\"1\" class=\"dataframe\">\n",
              "  <thead>\n",
              "    <tr style=\"text-align: right;\">\n",
              "      <th></th>\n",
              "      <th>Item_Identifier</th>\n",
              "      <th>Item_Weight</th>\n",
              "      <th>Item_Fat_Content</th>\n",
              "      <th>Item_Visibility</th>\n",
              "      <th>Item_Type</th>\n",
              "      <th>Item_MRP</th>\n",
              "      <th>Outlet_Identifier</th>\n",
              "      <th>Outlet_Establishment_Year</th>\n",
              "      <th>Outlet_Size</th>\n",
              "      <th>Outlet_Location_Type</th>\n",
              "      <th>Outlet_Type</th>\n",
              "      <th>Item_Outlet_Sales</th>\n",
              "      <th>price_of_one_killo_of_item</th>\n",
              "    </tr>\n",
              "  </thead>\n",
              "  <tbody>\n",
              "    <tr>\n",
              "      <th>8</th>\n",
              "      <td>FDH17</td>\n",
              "      <td>16.20</td>\n",
              "      <td>Regular</td>\n",
              "      <td>0.016687</td>\n",
              "      <td>Frozen Foods</td>\n",
              "      <td>96.9726</td>\n",
              "      <td>OUT045</td>\n",
              "      <td>2002</td>\n",
              "      <td>NaN</td>\n",
              "      <td>Tier 2</td>\n",
              "      <td>Supermarket Type1</td>\n",
              "      <td>1076.5986</td>\n",
              "      <td>5.985963</td>\n",
              "    </tr>\n",
              "    <tr>\n",
              "      <th>9</th>\n",
              "      <td>FDU28</td>\n",
              "      <td>19.20</td>\n",
              "      <td>Regular</td>\n",
              "      <td>0.094450</td>\n",
              "      <td>Frozen Foods</td>\n",
              "      <td>187.8214</td>\n",
              "      <td>OUT017</td>\n",
              "      <td>2007</td>\n",
              "      <td>NaN</td>\n",
              "      <td>Tier 2</td>\n",
              "      <td>Supermarket Type1</td>\n",
              "      <td>4710.5350</td>\n",
              "      <td>9.782365</td>\n",
              "    </tr>\n",
              "    <tr>\n",
              "      <th>25</th>\n",
              "      <td>NCD06</td>\n",
              "      <td>13.00</td>\n",
              "      <td>Low Fat</td>\n",
              "      <td>0.099887</td>\n",
              "      <td>Household</td>\n",
              "      <td>45.9060</td>\n",
              "      <td>OUT017</td>\n",
              "      <td>2007</td>\n",
              "      <td>NaN</td>\n",
              "      <td>Tier 2</td>\n",
              "      <td>Supermarket Type1</td>\n",
              "      <td>838.9080</td>\n",
              "      <td>3.531231</td>\n",
              "    </tr>\n",
              "    <tr>\n",
              "      <th>33</th>\n",
              "      <td>FDO23</td>\n",
              "      <td>17.85</td>\n",
              "      <td>Low Fat</td>\n",
              "      <td>0.000000</td>\n",
              "      <td>Breads</td>\n",
              "      <td>93.1436</td>\n",
              "      <td>OUT045</td>\n",
              "      <td>2002</td>\n",
              "      <td>NaN</td>\n",
              "      <td>Tier 2</td>\n",
              "      <td>Supermarket Type1</td>\n",
              "      <td>2174.5028</td>\n",
              "      <td>5.218129</td>\n",
              "    </tr>\n",
              "    <tr>\n",
              "      <th>46</th>\n",
              "      <td>NCP05</td>\n",
              "      <td>19.60</td>\n",
              "      <td>Low Fat</td>\n",
              "      <td>0.000000</td>\n",
              "      <td>Health and Hygiene</td>\n",
              "      <td>153.3024</td>\n",
              "      <td>OUT045</td>\n",
              "      <td>2002</td>\n",
              "      <td>NaN</td>\n",
              "      <td>Tier 2</td>\n",
              "      <td>Supermarket Type1</td>\n",
              "      <td>2428.8384</td>\n",
              "      <td>7.821551</td>\n",
              "    </tr>\n",
              "    <tr>\n",
              "      <th>...</th>\n",
              "      <td>...</td>\n",
              "      <td>...</td>\n",
              "      <td>...</td>\n",
              "      <td>...</td>\n",
              "      <td>...</td>\n",
              "      <td>...</td>\n",
              "      <td>...</td>\n",
              "      <td>...</td>\n",
              "      <td>...</td>\n",
              "      <td>...</td>\n",
              "      <td>...</td>\n",
              "      <td>...</td>\n",
              "      <td>...</td>\n",
              "    </tr>\n",
              "    <tr>\n",
              "      <th>8501</th>\n",
              "      <td>FDW21</td>\n",
              "      <td>5.34</td>\n",
              "      <td>Regular</td>\n",
              "      <td>0.005998</td>\n",
              "      <td>Snack Foods</td>\n",
              "      <td>100.4358</td>\n",
              "      <td>OUT017</td>\n",
              "      <td>2007</td>\n",
              "      <td>NaN</td>\n",
              "      <td>Tier 2</td>\n",
              "      <td>Supermarket Type1</td>\n",
              "      <td>1508.0370</td>\n",
              "      <td>18.808202</td>\n",
              "    </tr>\n",
              "    <tr>\n",
              "      <th>8502</th>\n",
              "      <td>NCH43</td>\n",
              "      <td>8.42</td>\n",
              "      <td>Low Fat</td>\n",
              "      <td>0.070712</td>\n",
              "      <td>Household</td>\n",
              "      <td>216.4192</td>\n",
              "      <td>OUT045</td>\n",
              "      <td>2002</td>\n",
              "      <td>NaN</td>\n",
              "      <td>Tier 2</td>\n",
              "      <td>Supermarket Type1</td>\n",
              "      <td>3020.0688</td>\n",
              "      <td>25.702993</td>\n",
              "    </tr>\n",
              "    <tr>\n",
              "      <th>8508</th>\n",
              "      <td>FDW31</td>\n",
              "      <td>11.35</td>\n",
              "      <td>Regular</td>\n",
              "      <td>0.043246</td>\n",
              "      <td>Fruits and Vegetables</td>\n",
              "      <td>199.4742</td>\n",
              "      <td>OUT045</td>\n",
              "      <td>2002</td>\n",
              "      <td>NaN</td>\n",
              "      <td>Tier 2</td>\n",
              "      <td>Supermarket Type1</td>\n",
              "      <td>2587.9646</td>\n",
              "      <td>17.574819</td>\n",
              "    </tr>\n",
              "    <tr>\n",
              "      <th>8514</th>\n",
              "      <td>FDA01</td>\n",
              "      <td>15.00</td>\n",
              "      <td>Regular</td>\n",
              "      <td>0.054489</td>\n",
              "      <td>Canned</td>\n",
              "      <td>57.5904</td>\n",
              "      <td>OUT045</td>\n",
              "      <td>2002</td>\n",
              "      <td>NaN</td>\n",
              "      <td>Tier 2</td>\n",
              "      <td>Supermarket Type1</td>\n",
              "      <td>468.7232</td>\n",
              "      <td>3.839360</td>\n",
              "    </tr>\n",
              "    <tr>\n",
              "      <th>8519</th>\n",
              "      <td>FDS36</td>\n",
              "      <td>8.38</td>\n",
              "      <td>Regular</td>\n",
              "      <td>0.046982</td>\n",
              "      <td>Baking Goods</td>\n",
              "      <td>108.1570</td>\n",
              "      <td>OUT045</td>\n",
              "      <td>2002</td>\n",
              "      <td>NaN</td>\n",
              "      <td>Tier 2</td>\n",
              "      <td>Supermarket Type1</td>\n",
              "      <td>549.2850</td>\n",
              "      <td>12.906563</td>\n",
              "    </tr>\n",
              "  </tbody>\n",
              "</table>\n",
              "<p>1855 rows × 13 columns</p>\n",
              "</div>"
            ],
            "text/plain": [
              "     Item_Identifier  ...  price_of_one_killo_of_item\n",
              "8              FDH17  ...                    5.985963\n",
              "9              FDU28  ...                    9.782365\n",
              "25             NCD06  ...                    3.531231\n",
              "33             FDO23  ...                    5.218129\n",
              "46             NCP05  ...                    7.821551\n",
              "...              ...  ...                         ...\n",
              "8501           FDW21  ...                   18.808202\n",
              "8502           NCH43  ...                   25.702993\n",
              "8508           FDW31  ...                   17.574819\n",
              "8514           FDA01  ...                    3.839360\n",
              "8519           FDS36  ...                   12.906563\n",
              "\n",
              "[1855 rows x 13 columns]"
            ]
          },
          "metadata": {},
          "execution_count": 56
        }
      ]
    },
    {
      "cell_type": "code",
      "metadata": {
        "colab": {
          "base_uri": "https://localhost:8080/"
        },
        "id": "WIWYQ9UAS9Zd",
        "outputId": "6bd36552-20fb-433a-df95-a79b3f111091"
      },
      "source": [
        "data[(data['Outlet_Type']=='Supermarket Type1') &  (data['Outlet_Location_Type']=='Tier 2')].Outlet_Size.value_counts() #---------->  all Outlet_Size is SMALL"
      ],
      "id": "WIWYQ9UAS9Zd",
      "execution_count": null,
      "outputs": [
        {
          "output_type": "execute_result",
          "data": {
            "text/plain": [
              "Small    930\n",
              "Name: Outlet_Size, dtype: int64"
            ]
          },
          "metadata": {},
          "execution_count": 57
        }
      ]
    },
    {
      "cell_type": "code",
      "metadata": {
        "id": "bKG8uok9T1uB"
      },
      "source": [
        "for j in range(len(data)):\n",
        "  if (data.loc[j,'Outlet_Type']=='Supermarket Type1') &  (data.loc[j,'Outlet_Location_Type']=='Tier 2'):\n",
        "    data.loc[j,'Outlet_Size'] = 'Small'"
      ],
      "id": "bKG8uok9T1uB",
      "execution_count": null,
      "outputs": []
    },
    {
      "cell_type": "code",
      "metadata": {
        "colab": {
          "base_uri": "https://localhost:8080/"
        },
        "id": "iUf8HqX1URrL",
        "outputId": "66338a1c-9f33-4c8d-8467-5572a47d5943"
      },
      "source": [
        "data.isnull().sum()"
      ],
      "id": "iUf8HqX1URrL",
      "execution_count": null,
      "outputs": [
        {
          "output_type": "execute_result",
          "data": {
            "text/plain": [
              "Item_Identifier                  0\n",
              "Item_Weight                      4\n",
              "Item_Fat_Content                 0\n",
              "Item_Visibility                  0\n",
              "Item_Type                        0\n",
              "Item_MRP                         0\n",
              "Outlet_Identifier                0\n",
              "Outlet_Establishment_Year        0\n",
              "Outlet_Size                      0\n",
              "Outlet_Location_Type             0\n",
              "Outlet_Type                      0\n",
              "Item_Outlet_Sales                0\n",
              "price_of_one_killo_of_item    1463\n",
              "dtype: int64"
            ]
          },
          "metadata": {},
          "execution_count": 59
        }
      ]
    },
    {
      "cell_type": "code",
      "metadata": {
        "colab": {
          "base_uri": "https://localhost:8080/",
          "height": 309
        },
        "id": "fJMHZInYbby9",
        "outputId": "e7ced047-01c5-4886-80cd-e44596d9b135"
      },
      "source": [
        "# Create new features from the old ones\n",
        "data['price_of_one_killo_of_item']=data['Item_MRP']/data['Item_Weight']\n",
        "data.head()"
      ],
      "id": "fJMHZInYbby9",
      "execution_count": null,
      "outputs": [
        {
          "output_type": "execute_result",
          "data": {
            "text/html": [
              "<div>\n",
              "<style scoped>\n",
              "    .dataframe tbody tr th:only-of-type {\n",
              "        vertical-align: middle;\n",
              "    }\n",
              "\n",
              "    .dataframe tbody tr th {\n",
              "        vertical-align: top;\n",
              "    }\n",
              "\n",
              "    .dataframe thead th {\n",
              "        text-align: right;\n",
              "    }\n",
              "</style>\n",
              "<table border=\"1\" class=\"dataframe\">\n",
              "  <thead>\n",
              "    <tr style=\"text-align: right;\">\n",
              "      <th></th>\n",
              "      <th>Item_Identifier</th>\n",
              "      <th>Item_Weight</th>\n",
              "      <th>Item_Fat_Content</th>\n",
              "      <th>Item_Visibility</th>\n",
              "      <th>Item_Type</th>\n",
              "      <th>Item_MRP</th>\n",
              "      <th>Outlet_Identifier</th>\n",
              "      <th>Outlet_Establishment_Year</th>\n",
              "      <th>Outlet_Size</th>\n",
              "      <th>Outlet_Location_Type</th>\n",
              "      <th>Outlet_Type</th>\n",
              "      <th>Item_Outlet_Sales</th>\n",
              "      <th>price_of_one_killo_of_item</th>\n",
              "    </tr>\n",
              "  </thead>\n",
              "  <tbody>\n",
              "    <tr>\n",
              "      <th>0</th>\n",
              "      <td>FDA15</td>\n",
              "      <td>9.30</td>\n",
              "      <td>Low Fat</td>\n",
              "      <td>0.016047</td>\n",
              "      <td>Dairy</td>\n",
              "      <td>249.8092</td>\n",
              "      <td>OUT049</td>\n",
              "      <td>1999</td>\n",
              "      <td>Medium</td>\n",
              "      <td>Tier 1</td>\n",
              "      <td>Supermarket Type1</td>\n",
              "      <td>3735.1380</td>\n",
              "      <td>26.861204</td>\n",
              "    </tr>\n",
              "    <tr>\n",
              "      <th>1</th>\n",
              "      <td>DRC01</td>\n",
              "      <td>5.92</td>\n",
              "      <td>Regular</td>\n",
              "      <td>0.019278</td>\n",
              "      <td>Soft Drinks</td>\n",
              "      <td>48.2692</td>\n",
              "      <td>OUT018</td>\n",
              "      <td>2009</td>\n",
              "      <td>Medium</td>\n",
              "      <td>Tier 3</td>\n",
              "      <td>Supermarket Type2</td>\n",
              "      <td>443.4228</td>\n",
              "      <td>8.153581</td>\n",
              "    </tr>\n",
              "    <tr>\n",
              "      <th>2</th>\n",
              "      <td>FDN15</td>\n",
              "      <td>17.50</td>\n",
              "      <td>Low Fat</td>\n",
              "      <td>0.016760</td>\n",
              "      <td>Meat</td>\n",
              "      <td>141.6180</td>\n",
              "      <td>OUT049</td>\n",
              "      <td>1999</td>\n",
              "      <td>Medium</td>\n",
              "      <td>Tier 1</td>\n",
              "      <td>Supermarket Type1</td>\n",
              "      <td>2097.2700</td>\n",
              "      <td>8.092457</td>\n",
              "    </tr>\n",
              "    <tr>\n",
              "      <th>3</th>\n",
              "      <td>FDX07</td>\n",
              "      <td>19.20</td>\n",
              "      <td>Regular</td>\n",
              "      <td>0.000000</td>\n",
              "      <td>Fruits and Vegetables</td>\n",
              "      <td>182.0950</td>\n",
              "      <td>OUT010</td>\n",
              "      <td>1998</td>\n",
              "      <td>Small</td>\n",
              "      <td>Tier 3</td>\n",
              "      <td>Grocery Store</td>\n",
              "      <td>732.3800</td>\n",
              "      <td>9.484115</td>\n",
              "    </tr>\n",
              "    <tr>\n",
              "      <th>4</th>\n",
              "      <td>NCD19</td>\n",
              "      <td>8.93</td>\n",
              "      <td>Low Fat</td>\n",
              "      <td>0.000000</td>\n",
              "      <td>Household</td>\n",
              "      <td>53.8614</td>\n",
              "      <td>OUT013</td>\n",
              "      <td>1987</td>\n",
              "      <td>High</td>\n",
              "      <td>Tier 3</td>\n",
              "      <td>Supermarket Type1</td>\n",
              "      <td>994.7052</td>\n",
              "      <td>6.031512</td>\n",
              "    </tr>\n",
              "  </tbody>\n",
              "</table>\n",
              "</div>"
            ],
            "text/plain": [
              "  Item_Identifier  Item_Weight  ... Item_Outlet_Sales  price_of_one_killo_of_item\n",
              "0           FDA15         9.30  ...         3735.1380                   26.861204\n",
              "1           DRC01         5.92  ...          443.4228                    8.153581\n",
              "2           FDN15        17.50  ...         2097.2700                    8.092457\n",
              "3           FDX07        19.20  ...          732.3800                    9.484115\n",
              "4           NCD19         8.93  ...          994.7052                    6.031512\n",
              "\n",
              "[5 rows x 13 columns]"
            ]
          },
          "metadata": {},
          "execution_count": 60
        }
      ]
    },
    {
      "cell_type": "code",
      "metadata": {
        "colab": {
          "base_uri": "https://localhost:8080/"
        },
        "id": "-aNx3WTvbfGR",
        "outputId": "f048354e-0b2a-4669-9005-d4472e1fbbc9"
      },
      "source": [
        "data.isnull().sum()"
      ],
      "id": "-aNx3WTvbfGR",
      "execution_count": null,
      "outputs": [
        {
          "output_type": "execute_result",
          "data": {
            "text/plain": [
              "Item_Identifier               0\n",
              "Item_Weight                   4\n",
              "Item_Fat_Content              0\n",
              "Item_Visibility               0\n",
              "Item_Type                     0\n",
              "Item_MRP                      0\n",
              "Outlet_Identifier             0\n",
              "Outlet_Establishment_Year     0\n",
              "Outlet_Size                   0\n",
              "Outlet_Location_Type          0\n",
              "Outlet_Type                   0\n",
              "Item_Outlet_Sales             0\n",
              "price_of_one_killo_of_item    4\n",
              "dtype: int64"
            ]
          },
          "metadata": {},
          "execution_count": 61
        }
      ]
    },
    {
      "cell_type": "code",
      "metadata": {
        "id": "HVDmPjsnrB84"
      },
      "source": [
        "for j in range(len(data)):\n",
        "  if data.loc[j,'Outlet_Size']=='small':\n",
        "    data.loc[j,'Outlet_Size']='Small'"
      ],
      "id": "HVDmPjsnrB84",
      "execution_count": null,
      "outputs": []
    },
    {
      "cell_type": "code",
      "metadata": {
        "colab": {
          "base_uri": "https://localhost:8080/"
        },
        "id": "bzdzshmerJh3",
        "outputId": "90c0753d-7b1c-486c-fad5-8f43709e3ac8"
      },
      "source": [
        "data.Outlet_Size.value_counts()"
      ],
      "id": "bzdzshmerJh3",
      "execution_count": null,
      "outputs": [
        {
          "output_type": "execute_result",
          "data": {
            "text/plain": [
              "Small     4798\n",
              "Medium    2793\n",
              "High       932\n",
              "Name: Outlet_Size, dtype: int64"
            ]
          },
          "metadata": {},
          "execution_count": 63
        }
      ]
    },
    {
      "cell_type": "code",
      "metadata": {
        "id": "c-KVEmLZNdgx"
      },
      "source": [
        "# Drop 4 rows that have Missing value in (Item_Weight)\n",
        "\n",
        "# 0 for rows and 1 for columns\n",
        "data.dropna(subset=['Item_Weight'], inplace=True)"
      ],
      "id": "c-KVEmLZNdgx",
      "execution_count": null,
      "outputs": []
    },
    {
      "cell_type": "markdown",
      "metadata": {
        "id": "qtYrvv5y1nyv"
      },
      "source": [
        "***Convert Categorical Features to Numeric Quantities***"
      ],
      "id": "qtYrvv5y1nyv"
    },
    {
      "cell_type": "code",
      "metadata": {
        "colab": {
          "base_uri": "https://localhost:8080/"
        },
        "id": "6kyTaNHY3ON8",
        "outputId": "b45b3a96-537d-4772-e7f6-eac502864c08"
      },
      "source": [
        "data.Item_Fat_Content.unique()"
      ],
      "id": "6kyTaNHY3ON8",
      "execution_count": null,
      "outputs": [
        {
          "output_type": "execute_result",
          "data": {
            "text/plain": [
              "array(['Low Fat', 'Regular'], dtype=object)"
            ]
          },
          "metadata": {},
          "execution_count": 65
        }
      ]
    },
    {
      "cell_type": "code",
      "metadata": {
        "id": "Nm4tzVF9A1vb"
      },
      "source": [
        "# Label Encoder\n",
        "\n",
        "encoded_columns={'Outlet_Size':{'Medium':1, 'Small':2, 'High':3},\n",
        "                 'Outlet_Location_Type':{'Tier 1':1, 'Tier 3':3, 'Tier 2':2},\n",
        "                 'Item_Fat_Content':{'Low Fat':2, 'Regular':1}}\n",
        "data.replace(encoded_columns,inplace=True)"
      ],
      "id": "Nm4tzVF9A1vb",
      "execution_count": null,
      "outputs": []
    },
    {
      "cell_type": "code",
      "metadata": {
        "id": "Srew_DZ9Bvln"
      },
      "source": [
        "# OneHot Evcoder\n",
        "\n",
        "data=pd.get_dummies(data,columns=['Item_Type','Outlet_Type'])"
      ],
      "id": "Srew_DZ9Bvln",
      "execution_count": null,
      "outputs": []
    },
    {
      "cell_type": "code",
      "metadata": {
        "id": "ipjIVg-xCV_r"
      },
      "source": [
        "# Drop ID columns\n",
        "\n",
        "data = data.drop(['Item_Identifier','Outlet_Identifier'],axis=1)   # 0 for rows and 1 for columns"
      ],
      "id": "ipjIVg-xCV_r",
      "execution_count": null,
      "outputs": []
    },
    {
      "cell_type": "code",
      "metadata": {
        "colab": {
          "base_uri": "https://localhost:8080/",
          "height": 241
        },
        "id": "4t4KVGiaDsX8",
        "outputId": "10a9848c-1009-41a5-bbad-191230ed2867"
      },
      "source": [
        "data.head()"
      ],
      "id": "4t4KVGiaDsX8",
      "execution_count": null,
      "outputs": [
        {
          "output_type": "execute_result",
          "data": {
            "text/html": [
              "<div>\n",
              "<style scoped>\n",
              "    .dataframe tbody tr th:only-of-type {\n",
              "        vertical-align: middle;\n",
              "    }\n",
              "\n",
              "    .dataframe tbody tr th {\n",
              "        vertical-align: top;\n",
              "    }\n",
              "\n",
              "    .dataframe thead th {\n",
              "        text-align: right;\n",
              "    }\n",
              "</style>\n",
              "<table border=\"1\" class=\"dataframe\">\n",
              "  <thead>\n",
              "    <tr style=\"text-align: right;\">\n",
              "      <th></th>\n",
              "      <th>Item_Weight</th>\n",
              "      <th>Item_Fat_Content</th>\n",
              "      <th>Item_Visibility</th>\n",
              "      <th>Item_MRP</th>\n",
              "      <th>Outlet_Establishment_Year</th>\n",
              "      <th>Outlet_Size</th>\n",
              "      <th>Outlet_Location_Type</th>\n",
              "      <th>Item_Outlet_Sales</th>\n",
              "      <th>price_of_one_killo_of_item</th>\n",
              "      <th>Item_Type_Baking Goods</th>\n",
              "      <th>Item_Type_Breads</th>\n",
              "      <th>Item_Type_Breakfast</th>\n",
              "      <th>Item_Type_Canned</th>\n",
              "      <th>Item_Type_Dairy</th>\n",
              "      <th>Item_Type_Frozen Foods</th>\n",
              "      <th>Item_Type_Fruits and Vegetables</th>\n",
              "      <th>Item_Type_Hard Drinks</th>\n",
              "      <th>Item_Type_Health and Hygiene</th>\n",
              "      <th>Item_Type_Household</th>\n",
              "      <th>Item_Type_Meat</th>\n",
              "      <th>Item_Type_Others</th>\n",
              "      <th>Item_Type_Seafood</th>\n",
              "      <th>Item_Type_Snack Foods</th>\n",
              "      <th>Item_Type_Soft Drinks</th>\n",
              "      <th>Item_Type_Starchy Foods</th>\n",
              "      <th>Outlet_Type_Grocery Store</th>\n",
              "      <th>Outlet_Type_Supermarket Type1</th>\n",
              "      <th>Outlet_Type_Supermarket Type2</th>\n",
              "      <th>Outlet_Type_Supermarket Type3</th>\n",
              "    </tr>\n",
              "  </thead>\n",
              "  <tbody>\n",
              "    <tr>\n",
              "      <th>0</th>\n",
              "      <td>9.30</td>\n",
              "      <td>2</td>\n",
              "      <td>0.016047</td>\n",
              "      <td>249.8092</td>\n",
              "      <td>1999</td>\n",
              "      <td>1</td>\n",
              "      <td>1</td>\n",
              "      <td>3735.1380</td>\n",
              "      <td>26.861204</td>\n",
              "      <td>0</td>\n",
              "      <td>0</td>\n",
              "      <td>0</td>\n",
              "      <td>0</td>\n",
              "      <td>1</td>\n",
              "      <td>0</td>\n",
              "      <td>0</td>\n",
              "      <td>0</td>\n",
              "      <td>0</td>\n",
              "      <td>0</td>\n",
              "      <td>0</td>\n",
              "      <td>0</td>\n",
              "      <td>0</td>\n",
              "      <td>0</td>\n",
              "      <td>0</td>\n",
              "      <td>0</td>\n",
              "      <td>0</td>\n",
              "      <td>1</td>\n",
              "      <td>0</td>\n",
              "      <td>0</td>\n",
              "    </tr>\n",
              "    <tr>\n",
              "      <th>1</th>\n",
              "      <td>5.92</td>\n",
              "      <td>1</td>\n",
              "      <td>0.019278</td>\n",
              "      <td>48.2692</td>\n",
              "      <td>2009</td>\n",
              "      <td>1</td>\n",
              "      <td>3</td>\n",
              "      <td>443.4228</td>\n",
              "      <td>8.153581</td>\n",
              "      <td>0</td>\n",
              "      <td>0</td>\n",
              "      <td>0</td>\n",
              "      <td>0</td>\n",
              "      <td>0</td>\n",
              "      <td>0</td>\n",
              "      <td>0</td>\n",
              "      <td>0</td>\n",
              "      <td>0</td>\n",
              "      <td>0</td>\n",
              "      <td>0</td>\n",
              "      <td>0</td>\n",
              "      <td>0</td>\n",
              "      <td>0</td>\n",
              "      <td>1</td>\n",
              "      <td>0</td>\n",
              "      <td>0</td>\n",
              "      <td>0</td>\n",
              "      <td>1</td>\n",
              "      <td>0</td>\n",
              "    </tr>\n",
              "    <tr>\n",
              "      <th>2</th>\n",
              "      <td>17.50</td>\n",
              "      <td>2</td>\n",
              "      <td>0.016760</td>\n",
              "      <td>141.6180</td>\n",
              "      <td>1999</td>\n",
              "      <td>1</td>\n",
              "      <td>1</td>\n",
              "      <td>2097.2700</td>\n",
              "      <td>8.092457</td>\n",
              "      <td>0</td>\n",
              "      <td>0</td>\n",
              "      <td>0</td>\n",
              "      <td>0</td>\n",
              "      <td>0</td>\n",
              "      <td>0</td>\n",
              "      <td>0</td>\n",
              "      <td>0</td>\n",
              "      <td>0</td>\n",
              "      <td>0</td>\n",
              "      <td>1</td>\n",
              "      <td>0</td>\n",
              "      <td>0</td>\n",
              "      <td>0</td>\n",
              "      <td>0</td>\n",
              "      <td>0</td>\n",
              "      <td>0</td>\n",
              "      <td>1</td>\n",
              "      <td>0</td>\n",
              "      <td>0</td>\n",
              "    </tr>\n",
              "    <tr>\n",
              "      <th>3</th>\n",
              "      <td>19.20</td>\n",
              "      <td>1</td>\n",
              "      <td>0.000000</td>\n",
              "      <td>182.0950</td>\n",
              "      <td>1998</td>\n",
              "      <td>2</td>\n",
              "      <td>3</td>\n",
              "      <td>732.3800</td>\n",
              "      <td>9.484115</td>\n",
              "      <td>0</td>\n",
              "      <td>0</td>\n",
              "      <td>0</td>\n",
              "      <td>0</td>\n",
              "      <td>0</td>\n",
              "      <td>0</td>\n",
              "      <td>1</td>\n",
              "      <td>0</td>\n",
              "      <td>0</td>\n",
              "      <td>0</td>\n",
              "      <td>0</td>\n",
              "      <td>0</td>\n",
              "      <td>0</td>\n",
              "      <td>0</td>\n",
              "      <td>0</td>\n",
              "      <td>0</td>\n",
              "      <td>1</td>\n",
              "      <td>0</td>\n",
              "      <td>0</td>\n",
              "      <td>0</td>\n",
              "    </tr>\n",
              "    <tr>\n",
              "      <th>4</th>\n",
              "      <td>8.93</td>\n",
              "      <td>2</td>\n",
              "      <td>0.000000</td>\n",
              "      <td>53.8614</td>\n",
              "      <td>1987</td>\n",
              "      <td>3</td>\n",
              "      <td>3</td>\n",
              "      <td>994.7052</td>\n",
              "      <td>6.031512</td>\n",
              "      <td>0</td>\n",
              "      <td>0</td>\n",
              "      <td>0</td>\n",
              "      <td>0</td>\n",
              "      <td>0</td>\n",
              "      <td>0</td>\n",
              "      <td>0</td>\n",
              "      <td>0</td>\n",
              "      <td>0</td>\n",
              "      <td>1</td>\n",
              "      <td>0</td>\n",
              "      <td>0</td>\n",
              "      <td>0</td>\n",
              "      <td>0</td>\n",
              "      <td>0</td>\n",
              "      <td>0</td>\n",
              "      <td>0</td>\n",
              "      <td>1</td>\n",
              "      <td>0</td>\n",
              "      <td>0</td>\n",
              "    </tr>\n",
              "  </tbody>\n",
              "</table>\n",
              "</div>"
            ],
            "text/plain": [
              "   Item_Weight  ...  Outlet_Type_Supermarket Type3\n",
              "0         9.30  ...                              0\n",
              "1         5.92  ...                              0\n",
              "2        17.50  ...                              0\n",
              "3        19.20  ...                              0\n",
              "4         8.93  ...                              0\n",
              "\n",
              "[5 rows x 29 columns]"
            ]
          },
          "metadata": {},
          "execution_count": 69
        }
      ]
    },
    {
      "cell_type": "markdown",
      "metadata": {
        "id": "df40620a"
      },
      "source": [
        "# Split the data into train and test without using any library (Use only numpy)"
      ],
      "id": "df40620a"
    },
    {
      "cell_type": "code",
      "metadata": {
        "id": "5d37c238"
      },
      "source": [
        "import numpy as np\n",
        "\n",
        "train ,test = np.split(data.sample(frac= 1) , [int(0.7 * len(data))])"
      ],
      "id": "5d37c238",
      "execution_count": null,
      "outputs": []
    },
    {
      "cell_type": "code",
      "metadata": {
        "id": "a2H11BC5lVnd"
      },
      "source": [
        "train_values= train.values\n",
        "\n",
        "y_train = train ['Item_Outlet_Sales']\n",
        "x_train = train.drop('Item_Outlet_Sales' , axis =1)\n"
      ],
      "id": "a2H11BC5lVnd",
      "execution_count": null,
      "outputs": []
    },
    {
      "cell_type": "code",
      "metadata": {
        "id": "gzVj-w8rnPs_"
      },
      "source": [
        "test_values= test.values\n",
        "\n",
        "y_test = test ['Item_Outlet_Sales']\n",
        "x_test = test.drop('Item_Outlet_Sales' , axis =1)"
      ],
      "id": "gzVj-w8rnPs_",
      "execution_count": null,
      "outputs": []
    },
    {
      "cell_type": "markdown",
      "metadata": {
        "id": "46215d2d"
      },
      "source": [
        "# Build a machine learning model and find the accuracy on the test data"
      ],
      "id": "46215d2d"
    },
    {
      "cell_type": "markdown",
      "metadata": {
        "id": "HuJ_cqhGTj6t"
      },
      "source": [
        "***Linear Regression***"
      ],
      "id": "HuJ_cqhGTj6t"
    },
    {
      "cell_type": "code",
      "metadata": {
        "id": "b4VOmnaMeN0I",
        "colab": {
          "base_uri": "https://localhost:8080/"
        },
        "outputId": "644476c8-3cfc-4151-aeb2-08a2b42291a6"
      },
      "source": [
        "from sklearn.linear_model import LinearRegression\n",
        "\n",
        "Linear_Reg= LinearRegression()\n",
        "Linear_Reg.fit(x_train, y_train)"
      ],
      "id": "b4VOmnaMeN0I",
      "execution_count": null,
      "outputs": [
        {
          "output_type": "execute_result",
          "data": {
            "text/plain": [
              "LinearRegression(copy_X=True, fit_intercept=True, n_jobs=None, normalize=False)"
            ]
          },
          "metadata": {},
          "execution_count": 92
        }
      ]
    },
    {
      "cell_type": "code",
      "metadata": {
        "colab": {
          "base_uri": "https://localhost:8080/"
        },
        "id": "-_Y7AO_zN5mp",
        "outputId": "cc865c54-5b34-4b8a-ec9f-430dc8f7ff87"
      },
      "source": [
        "prediction_1 = Linear_Reg.predict(x_test)\n",
        "acc_1 = round(Linear_Reg.score(x_test , y_test)*100)\n",
        "acc_1"
      ],
      "id": "-_Y7AO_zN5mp",
      "execution_count": null,
      "outputs": [
        {
          "output_type": "execute_result",
          "data": {
            "text/plain": [
              "58"
            ]
          },
          "metadata": {},
          "execution_count": 97
        }
      ]
    },
    {
      "cell_type": "code",
      "metadata": {
        "colab": {
          "base_uri": "https://localhost:8080/"
        },
        "id": "GchbKPpHTgij",
        "outputId": "5816423d-b495-4fcd-bfcd-4fc850add655"
      },
      "source": [
        "from sklearn.metrics import r2_score\n",
        "\n",
        "r2 = r2_score(y_test , prediction_1)\n",
        "r2"
      ],
      "id": "GchbKPpHTgij",
      "execution_count": null,
      "outputs": [
        {
          "output_type": "execute_result",
          "data": {
            "text/plain": [
              "0.5792343801146751"
            ]
          },
          "metadata": {},
          "execution_count": 94
        }
      ]
    },
    {
      "cell_type": "code",
      "metadata": {
        "colab": {
          "base_uri": "https://localhost:8080/"
        },
        "id": "KDAB3zZdFdsn",
        "outputId": "c7d0a0a3-9324-4fdd-e35a-961504b65f38"
      },
      "source": [
        "from sklearn.metrics import mean_squared_error\n",
        "\n",
        "MSE = mean_squared_error(y_test, prediction_1)\n",
        "RMSE = np.sqrt(MSE)\n",
        "RMSE"
      ],
      "id": "KDAB3zZdFdsn",
      "execution_count": null,
      "outputs": [
        {
          "output_type": "execute_result",
          "data": {
            "text/plain": [
              "1097.4188161023922"
            ]
          },
          "metadata": {},
          "execution_count": 95
        }
      ]
    },
    {
      "cell_type": "markdown",
      "metadata": {
        "id": "3pA2cuVTUIJk"
      },
      "source": [
        "***Decision Tree Regression***"
      ],
      "id": "3pA2cuVTUIJk"
    },
    {
      "cell_type": "code",
      "metadata": {
        "id": "jKwGihGWPviO",
        "colab": {
          "base_uri": "https://localhost:8080/"
        },
        "outputId": "35b22ba9-cc4c-4cf8-9f6e-1854282518ed"
      },
      "source": [
        "from sklearn.tree import DecisionTreeRegressor\n",
        "\n",
        "DesTree = DecisionTreeRegressor()\n",
        "DesTree.fit(x_train, y_train)"
      ],
      "id": "jKwGihGWPviO",
      "execution_count": null,
      "outputs": [
        {
          "output_type": "execute_result",
          "data": {
            "text/plain": [
              "DecisionTreeRegressor(ccp_alpha=0.0, criterion='mse', max_depth=None,\n",
              "                      max_features=None, max_leaf_nodes=None,\n",
              "                      min_impurity_decrease=0.0, min_impurity_split=None,\n",
              "                      min_samples_leaf=1, min_samples_split=2,\n",
              "                      min_weight_fraction_leaf=0.0, presort='deprecated',\n",
              "                      random_state=None, splitter='best')"
            ]
          },
          "metadata": {},
          "execution_count": 86
        }
      ]
    },
    {
      "cell_type": "code",
      "metadata": {
        "colab": {
          "base_uri": "https://localhost:8080/"
        },
        "id": "dfaDIlfYQI7u",
        "outputId": "5cef6fed-15fd-40db-a97e-68ba7f65f4a5"
      },
      "source": [
        "prediction_2 = DesTree.predict(x_test)\n",
        "acc_2 = round(DesTree.score(x_test , y_test)*100)\n",
        "acc_2"
      ],
      "id": "dfaDIlfYQI7u",
      "execution_count": null,
      "outputs": [
        {
          "output_type": "execute_result",
          "data": {
            "text/plain": [
              "24"
            ]
          },
          "metadata": {},
          "execution_count": 87
        }
      ]
    },
    {
      "cell_type": "code",
      "metadata": {
        "colab": {
          "base_uri": "https://localhost:8080/"
        },
        "id": "eyNAc8TOPS7b",
        "outputId": "57c8602b-b2f0-486c-988e-7caf782f91f9"
      },
      "source": [
        "from sklearn.metrics import mean_squared_error\n",
        "\n",
        "MSE = mean_squared_error(y_test, prediction_2)\n",
        "RMSE = np.sqrt(MSE)\n",
        "RMSE"
      ],
      "id": "eyNAc8TOPS7b",
      "execution_count": null,
      "outputs": [
        {
          "output_type": "execute_result",
          "data": {
            "text/plain": [
              "1472.0939679566934"
            ]
          },
          "metadata": {},
          "execution_count": 88
        }
      ]
    },
    {
      "cell_type": "markdown",
      "metadata": {
        "id": "KRwMwitGUUwU"
      },
      "source": [
        "***Random Forest Regression***"
      ],
      "id": "KRwMwitGUUwU"
    },
    {
      "cell_type": "code",
      "metadata": {
        "id": "vR4N3EXXQGVW",
        "colab": {
          "base_uri": "https://localhost:8080/"
        },
        "outputId": "ee541172-0c96-4903-c47b-e846ca2f1df0"
      },
      "source": [
        "from sklearn.ensemble import RandomForestRegressor\n",
        "\n",
        "RanForest = RandomForestRegressor()\n",
        "RanForest.fit(x_train , y_train)"
      ],
      "id": "vR4N3EXXQGVW",
      "execution_count": null,
      "outputs": [
        {
          "output_type": "execute_result",
          "data": {
            "text/plain": [
              "RandomForestRegressor(bootstrap=True, ccp_alpha=0.0, criterion='mse',\n",
              "                      max_depth=None, max_features='auto', max_leaf_nodes=None,\n",
              "                      max_samples=None, min_impurity_decrease=0.0,\n",
              "                      min_impurity_split=None, min_samples_leaf=1,\n",
              "                      min_samples_split=2, min_weight_fraction_leaf=0.0,\n",
              "                      n_estimators=100, n_jobs=None, oob_score=False,\n",
              "                      random_state=None, verbose=0, warm_start=False)"
            ]
          },
          "metadata": {},
          "execution_count": 89
        }
      ]
    },
    {
      "cell_type": "code",
      "metadata": {
        "colab": {
          "base_uri": "https://localhost:8080/"
        },
        "id": "zO7sJsM-QqyP",
        "outputId": "27b3b277-e671-4331-80b0-5555ed276373"
      },
      "source": [
        "prediction_3 = RanForest.predict(x_test)\n",
        "acc_3 = round(DesTree.score(x_test , y_test)*100)\n",
        "acc_3"
      ],
      "id": "zO7sJsM-QqyP",
      "execution_count": null,
      "outputs": [
        {
          "output_type": "execute_result",
          "data": {
            "text/plain": [
              "24"
            ]
          },
          "metadata": {},
          "execution_count": 90
        }
      ]
    },
    {
      "cell_type": "code",
      "metadata": {
        "colab": {
          "base_uri": "https://localhost:8080/"
        },
        "id": "Bv-drWTJPV8r",
        "outputId": "f013e42c-21b5-40c1-bae9-c814ba59c192"
      },
      "source": [
        "from sklearn.metrics import mean_squared_error\n",
        "\n",
        "MSE = mean_squared_error(y_test, prediction_3)\n",
        "RMSE = np.sqrt(MSE)\n",
        "RMSE"
      ],
      "id": "Bv-drWTJPV8r",
      "execution_count": null,
      "outputs": [
        {
          "output_type": "execute_result",
          "data": {
            "text/plain": [
              "1095.8037730510225"
            ]
          },
          "metadata": {},
          "execution_count": 91
        }
      ]
    },
    {
      "cell_type": "markdown",
      "metadata": {
        "id": "f16412f0"
      },
      "source": [
        "# Find something in the data that I didn't ask you to find and give me some hypothesis about it"
      ],
      "id": "f16412f0"
    },
    {
      "cell_type": "code",
      "metadata": {
        "id": "81b5f088"
      },
      "source": [
        ""
      ],
      "id": "81b5f088",
      "execution_count": null,
      "outputs": []
    }
  ]
}